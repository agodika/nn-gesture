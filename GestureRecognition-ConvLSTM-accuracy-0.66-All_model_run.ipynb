{
 "cells": [
  {
   "cell_type": "markdown",
   "metadata": {},
   "source": [
    "# Gesture Recognition\n",
    "In this group project, you are going to build a 3D Conv model that will be able to predict the 5 gestures correctly. Please import the following libraries to get started."
   ]
  },
  {
   "cell_type": "code",
   "execution_count": 1,
   "metadata": {},
   "outputs": [],
   "source": [
    "import numpy as np\n",
    "import os\n",
    "#from scipy.misc import imread, imresize\n",
    "import datetime\n",
    "import os\n",
    "#import matplotlib.pyplot as plt\n",
    "from skimage import io\n",
    "from skimage.transform import rescale, resize, downscale_local_mean"
   ]
  },
  {
   "cell_type": "code",
   "execution_count": 2,
   "metadata": {},
   "outputs": [],
   "source": [
    "import matplotlib.pyplot as plt"
   ]
  },
  {
   "cell_type": "markdown",
   "metadata": {},
   "source": [
    "We set the random seed so that the results don't vary drastically."
   ]
  },
  {
   "cell_type": "code",
   "execution_count": 3,
   "metadata": {},
   "outputs": [
    {
     "name": "stderr",
     "output_type": "stream",
     "text": [
      "Using TensorFlow backend.\n"
     ]
    }
   ],
   "source": [
    "np.random.seed(30)\n",
    "import random as rn\n",
    "rn.seed(30)\n",
    "from keras import backend as K\n",
    "import tensorflow as tf\n",
    "tf.set_random_seed(30)"
   ]
  },
  {
   "cell_type": "markdown",
   "metadata": {},
   "source": [
    "In this block, you read the folder names for training and validation. You also set the `batch_size` here. Note that you set the batch size in such a way that you are able to use the GPU in full capacity. You keep increasing the batch size until the machine throws an error."
   ]
  },
  {
   "cell_type": "code",
   "execution_count": 4,
   "metadata": {},
   "outputs": [],
   "source": [
    "data_path = './Project_data'\n",
    "train_path = f'{data_path}/train'\n",
    "val_path = f'{data_path}/val'\n"
   ]
  },
  {
   "cell_type": "code",
   "execution_count": 5,
   "metadata": {},
   "outputs": [],
   "source": [
    "train_doc = np.random.permutation(open(f'{data_path}/train.csv').readlines())\n",
    "val_doc = np.random.permutation(open(f'{data_path}/val.csv').readlines())\n",
    "batch_size = 5 #experiment with the batch size"
   ]
  },
  {
   "cell_type": "code",
   "execution_count": 6,
   "metadata": {},
   "outputs": [
    {
     "data": {
      "text/plain": [
       "array(['WIN_20180926_16_54_08_Pro_Right_Swipe_new;Right_Swipe_new;1\\n',\n",
       "       'WIN_20180925_18_02_58_Pro_Thumbs_Down_new;Thumbs_Down_new;3\\n',\n",
       "       'WIN_20180925_17_33_08_Pro_Left_Swipe_new;Left_Swipe_new;0\\n',\n",
       "       'WIN_20180925_17_51_17_Pro_Thumbs_Up_new;Thumbs_Up_new;4\\n',\n",
       "       'WIN_20180926_17_17_35_Pro_Left_Swipe_new;Left_Swipe_new;0\\n',\n",
       "       'WIN_20180926_17_30_47_Pro_Thumbs_Up_new;Thumbs_Up_new;4\\n',\n",
       "       'WIN_20180926_17_29_23_Pro_Stop_new;Stop_new;2\\n',\n",
       "       'WIN_20180926_17_12_26_Pro_Thumbs_Up_new;Thumbs_Up_new;4\\n',\n",
       "       'WIN_20180926_17_29_01_Pro_Stop_new;Stop_new;2\\n',\n",
       "       'WIN_20180907_16_32_11_Pro_Stop Gesture_new;Stop Gesture_new;2\\n'],\n",
       "      dtype='<U88')"
      ]
     },
     "execution_count": 6,
     "metadata": {},
     "output_type": "execute_result"
    }
   ],
   "source": [
    "train_doc[0:10]"
   ]
  },
  {
   "cell_type": "code",
   "execution_count": 7,
   "metadata": {},
   "outputs": [
    {
     "data": {
      "text/plain": [
       "132"
      ]
     },
     "execution_count": 7,
     "metadata": {},
     "output_type": "execute_result"
    }
   ],
   "source": [
    "len(train_doc) // batch_size"
   ]
  },
  {
   "cell_type": "markdown",
   "metadata": {},
   "source": [
    "## Generator\n",
    "This is one of the most important part of the code. The overall structure of the generator has been given. In the generator, you are going to preprocess the images as you have images of 2 different dimensions as well as create a batch of video frames. You have to experiment with `img_idx`, `y`,`z` and normalization such that you get high accuracy."
   ]
  },
  {
   "cell_type": "code",
   "execution_count": 8,
   "metadata": {},
   "outputs": [],
   "source": [
    "from skimage import transform as tf\n",
    "from skimage.util import random_noise\n",
    "from skimage import exposure\n",
    "from skimage.transform import rotate as rot\n",
    "\n",
    "def normalize(image):\n",
    "#     return image/255\n",
    "#    return image - np.percentile(image,5)/ np.percentile(image,95) - np.percentile(image,5)\n",
    "     return image - np.min(image)/np.max(image) - np.min(image)\n",
    "\n",
    "def identity(image):\n",
    "    return image\n",
    "\n",
    "def flip_lr(image):\n",
    "    return np.fliplr(image)\n",
    "\n",
    "def inc_contrast(image):\n",
    "    v_min, v_max = np.percentile(image, (0.2, 99.8))\n",
    "    return exposure.rescale_intensity(image, in_range=(v_min, v_max))\n",
    "\n",
    "def inc_brightness(image):\n",
    "    return exposure.adjust_gamma(image, gamma=0.4, gain=0.9)\n",
    "\n",
    "def bright_jitter(image):\n",
    "    return image*0.999 + np.zeros_like(image)*0.001\n",
    "\n",
    "def noise(image):\n",
    "    return random_noise(image)\n",
    "\n",
    "def rotate(image):\n",
    "    return rot(image, rn.choice(range(5,20)))\n",
    "\n",
    "def rotate_anti(image):\n",
    "    return rot(image, rn.choice(range(-20,-5)))\n",
    "\n",
    "def shift_left(image):\n",
    "    #M = np.float32([[1, 0, -25], [0, 1, 0]])\n",
    "    # translation\n",
    "    #(rows, cols) = image.shape[:2] \n",
    "    #return cv2.warpAffine(image, M, (cols, rows))\n",
    "    transaltion_transforms = tf.AffineTransform(translation=(rn.choice(range(15,40)), 0))\n",
    "    return tf.warp(image, transaltion_transforms)\n",
    "\n",
    "def shift_right(image):\n",
    "    transaltion_transforms = tf.AffineTransform(translation=(rn.choice(range(-40,-15)), 0))\n",
    "    return tf.warp(image, transaltion_transforms)\n",
    "\n",
    "def shift_up(image):\n",
    "    transaltion_transforms = tf.AffineTransform(translation=(0, rn.choice(range(-40,-15))))\n",
    "    return tf.warp(image, transaltion_transforms)\n",
    "\n",
    "def shift_down(image):\n",
    "    transaltion_transforms = tf.AffineTransform(translation=(0, rn.choice(range(15, 40))))\n",
    "    return tf.warp(image, transaltion_transforms)\n",
    "\n",
    "def zoom_in(image):\n",
    "    # specify x and y coordinates to be used for shifting (mid points)\n",
    "    shift_x, shift_y = image.shape[0]/2, image.shape[1]/2\n",
    "\n",
    "    # translation by certain units\n",
    "    matrix_to_topleft = tf.SimilarityTransform(translation=[-shift_x, -shift_y])\n",
    "    matrix_to_center = tf.SimilarityTransform(translation=[shift_x, shift_y])\n",
    "\n",
    "    zoom = rn.choice(range(60,90,5))/100\n",
    "    scale_transforms = tf.AffineTransform(scale=(zoom, zoom))\n",
    "    scale_matrix = matrix_to_topleft + scale_transforms + matrix_to_center\n",
    "    scale_image_zoom_in = tf.warp(image, scale_matrix)\n",
    "    return scale_image_zoom_in\n",
    "\n",
    "def zoom_out(image):\n",
    "    # specify x and y coordinates to be used for shifting (mid points)\n",
    "    shift_x, shift_y = image.shape[0]/2, image.shape[1]/2\n",
    "\n",
    "    # translation by certain units\n",
    "    matrix_to_topleft = tf.SimilarityTransform(translation=[-shift_x, -shift_y])\n",
    "    matrix_to_center = tf.SimilarityTransform(translation=[shift_x, shift_y])\n",
    "\n",
    "    # scaling \n",
    "    zoom = rn.choice(range(130,160,5))/100\n",
    "    scale_transforms = tf.AffineTransform(scale=(zoom, zoom))\n",
    "    scale_matrix = matrix_to_topleft + scale_transforms + matrix_to_center\n",
    "    scale_image_zoom_out = tf.warp(image, scale_matrix)\n",
    "\n",
    "    return scale_image_zoom_out\n",
    "\n",
    "\n",
    "def feed_image(batch_data, folder, idx, image):\n",
    "    batch_data[folder,idx,:,:,0] = image[:, :, 0] #normalise and feed in the image\n",
    "    batch_data[folder,idx,:,:,1] = image[:, :, 1] #normalise and feed in the image\n",
    "    batch_data[folder,idx,:,:,2] = image[:, :, 2] #normalise and feed in the image\n",
    "\n",
    "def augment_batch(batch_data, fn):\n",
    "    new_batch = np.zeros(batch_data.shape)\n",
    "    (folders, indices,_,_,_) = batch_data.shape\n",
    "    for folder in range(folders):\n",
    "        for idx in range(indices):\n",
    "            for channel in range(3):\n",
    "                new_batch[folder,idx,:,:,channel] = normalize(fn(batch_data[folder,idx,:,:,channel]))\n",
    "    return new_batch\n",
    "\n",
    "def augment_batch_2(batch_data, fns):\n",
    "    new_batch = np.zeros(batch_data.shape)\n",
    "    funcs = rn.sample(fns, rn.choice([1, 2, 3]))\n",
    "    (folders, indices,_,_,_) = batch_data.shape\n",
    "    for folder in range(folders):\n",
    "        for idx in range(indices):\n",
    "            for channel in range(3):\n",
    "                image = batch_data[folder,idx,:,:,channel] \n",
    "                for fn in funcs:\n",
    "                    image = fn(image)\n",
    "                new_batch[folder,idx,:,:,channel] = normalize(image)\n",
    "    return new_batch\n",
    "\n",
    "\n",
    "def generator(source_path, folder_list, batch_size, augment=False):\n",
    "    #print( 'Source path = ', source_path, '; batch size =', batch_size)\n",
    "    img_idx = list(range(0, 30, 3)) #create a list of image numbers you want to use for a particular video\n",
    "    x = len(img_idx) # number of images for each video\n",
    "    y = 120          # height of each input image\n",
    "    z = 120          # width of each input image\n",
    "    large=(360, 360, 3)\n",
    "    small=(120, 160, 3)\n",
    "    while True:\n",
    "        t = np.random.permutation(folder_list)\n",
    "        num_batches = len(folder_list) // batch_size # calculate the number of batches\n",
    "        for batch in range(num_batches): # we iterate over the number of batches\n",
    "            batch_data = np.zeros((batch_size,x,y,z,3)) # x is the number of images you use for each video, (y,z) is the final size of the input images and 3 is the number of channels RGB\n",
    "            batch_labels = np.zeros((batch_size,5)) # batch_labels is the one hot representation of the output\n",
    "            for folder in range(batch_size): # iterate over the batch_size\n",
    "                imgs = os.listdir(source_path+'/'+ t[folder + (batch*batch_size)].split(';')[0]) # read all the images in the folder\n",
    "                for idx,item in enumerate(img_idx): #  Iterate iver the frames/images of a folder to read them in\n",
    "                    #print(\"Reading \", source_path+'/'+ t[folder + (batch*batch_size)].strip().split(';')[0]+'/'+imgs[item])\n",
    "                    image = io.imread(source_path+'/'+ t[folder + (batch*batch_size)].strip().split(';')[0]+'/'+imgs[item])\n",
    "\n",
    "                    #crop the images and resize them. Note that the images are of 2 different shape \n",
    "                    #and the conv3D will throw error if the inputs in a batch have different shapes\n",
    "                    if (image.shape == large):\n",
    "                        image = resize(image, (y, z), anti_aliasing=False)\n",
    "                    else:\n",
    "                        image = image[:, 20:140, :]\n",
    "                    \n",
    "                    feed_image(batch_data, folder, idx, image)\n",
    "                    \n",
    "                batch_labels[folder, int(t[folder + (batch*batch_size)].strip().split(';')[2])] = 1\n",
    "\n",
    "            yield augment_batch(batch_data, identity), batch_labels #you yield the batch_data and the batch_labels, remember what does yield do\n",
    "            if augment:\n",
    "                #yield augment_batch(batch_data, inc_contrast), batch_labels\n",
    "                #yield augment_batch(batch_data, inc_brightness), batch_labels\n",
    "                yield augment_batch(batch_data, bright_jitter), batch_labels\n",
    "                #yield augment_batch(batch_data, zoom_in), batch_labels\n",
    "                #yield augment_batch(batch_data, zoom_out), batch_labels\n",
    "                yield augment_batch_2(batch_data, [inc_contrast, zoom_in, zoom_out, rotate, rotate_anti, shift_left, shift_right, shift_up, shift_down]), batch_labels\n",
    "                yield augment_batch_2(batch_data, [inc_contrast, zoom_in, zoom_out, rotate, rotate_anti, shift_left, shift_right, shift_up, shift_down]), batch_labels\n",
    "                #yield augment_batch(batch_data, shift_left), batch_labels\n",
    "                #yield augment_batch(batch_data, shift_right), batch_labels\n",
    "                yield augment_batch_2(batch_data, [inc_contrast, zoom_in, zoom_out, rotate, rotate_anti, shift_left, shift_right, shift_up, shift_down]), batch_labels\n",
    "                yield augment_batch_2(batch_data, [inc_contrast, zoom_in, zoom_out, rotate, rotate_anti, shift_left, shift_right, shift_up, shift_down]), batch_labels\n",
    "                #yield augment_batch_2(batch_data, [inc_contrast, zoom_in, zoom_out, rotate, rotate_anti, shift_left, shift_right, shift_up, shift_down]), batch_labels\n",
    "        \n",
    "        # write the code for the remaining data points which are left after full batches\n",
    "        start_idx = num_batches * batch_size\n",
    "        remaining_size = len(folder_list) - start_idx\n",
    "        if remaining_size > 0:\n",
    "            batch_data = np.zeros((remaining_size,x,y,z,3)) # x is the number of images you use for each video, (y,z) is the final size of the input images and 3 is the number of channels RGB\n",
    "            batch_labels = np.zeros((remaining_size,5)) # batch_labels is the one hot representation of the output\n",
    "            for folder in range(start_idx, len(folder_list)): #iterate over the remaining folders\n",
    "                imgs = os.listdir(source_path+'/'+ t[folder].split(';')[0]) # read all the images in the folder\n",
    "                for idx,item in enumerate(img_idx): #  Iterate iver the frames/images of a folder to read them in\n",
    "                    image = io.imread(source_path+'/'+ t[folder].strip().split(';')[0]+'/'+imgs[item])\n",
    "\n",
    "                    if (image.shape == large):\n",
    "                        image = resize(image, (y, z), anti_aliasing=False)\n",
    "                    else:\n",
    "                        image = image[:, 20:140, :]\n",
    "                    \n",
    "                    feed_image(batch_data, folder - start_idx, idx, image)\n",
    "\n",
    "            batch_labels[folder - start_idx, int(t[folder].strip().split(';')[2])] = 1\n",
    "            yield augment_batch(batch_data, identity), batch_labels #you yield the batch_data and the batch_labels, remember what does yield do\n",
    "            if augment: \n",
    "                #yield augment_batch(batch_data, inc_contrast), batch_labels\n",
    "                #yield augment_batch(batch_data, inc_brightness), batch_labels\n",
    "                yield augment_batch(batch_data, bright_jitter), batch_labels\n",
    "                yield augment_batch_2(batch_data, [inc_contrast, zoom_in, zoom_out, rotate, rotate_anti, shift_left, shift_right, shift_up, shift_down]), batch_labels\n",
    "                yield augment_batch_2(batch_data, [inc_contrast, zoom_in, zoom_out, rotate, rotate_anti, shift_left, shift_right, shift_up, shift_down]), batch_labels\n",
    "                yield augment_batch_2(batch_data, [inc_contrast, zoom_in, zoom_out, rotate, rotate_anti, shift_left, shift_right, shift_up, shift_down]), batch_labels\n",
    "                yield augment_batch_2(batch_data, [inc_contrast, zoom_in, zoom_out, rotate, rotate_anti, shift_left, shift_right, shift_up, shift_down]), batch_labels\n",
    "                #yield augment_batch_2(batch_data, [inc_contrast, zoom_in, zoom_out, rotate, rotate_anti, shift_left, shift_right, shift_up, shift_down]), batch_labels\n",
    "                #yield augment_batch(batch_data, shift_left), batch_labels\n",
    "                #yield augment_batch(batch_data, shift_right), batch_labels\n",
    "        \n",
    "    return None, None\n"
   ]
  },
  {
   "cell_type": "code",
   "execution_count": 9,
   "metadata": {},
   "outputs": [],
   "source": [
    "# test generator \n",
    "#i = generator(data_path + \"/train\", train_doc, 32)"
   ]
  },
  {
   "cell_type": "code",
   "execution_count": 10,
   "metadata": {
    "scrolled": false
   },
   "outputs": [],
   "source": [
    "# data, labels = next(i)\n",
    "# print(len(train_doc))\n",
    "# print(len(data))\n",
    "# print(len(labels))"
   ]
  },
  {
   "cell_type": "markdown",
   "metadata": {},
   "source": [
    "Note here that a video is represented above in the generator as (number of images, height, width, number of channels). Take this into consideration while creating the model architecture."
   ]
  },
  {
   "cell_type": "code",
   "execution_count": 11,
   "metadata": {},
   "outputs": [
    {
     "name": "stdout",
     "output_type": "stream",
     "text": [
      "# training sequences = 663\n",
      "# validation sequences = 100\n",
      "# epochs = 30\n"
     ]
    }
   ],
   "source": [
    "curr_dt_time = datetime.datetime.now()\n",
    "input_image_shape = (10, 120, 120, 3)\n",
    "num_train_sequences = len(train_doc)\n",
    "print('# training sequences =', num_train_sequences)\n",
    "num_val_sequences = len(val_doc)\n",
    "print('# validation sequences =', num_val_sequences)\n",
    "num_epochs = 30 # choose the number of epochs\n",
    "print ('# epochs =', num_epochs)\n",
    "num_classes = 5"
   ]
  },
  {
   "cell_type": "markdown",
   "metadata": {},
   "source": [
    "## Model\n",
    "Here you make the model using different functionalities that Keras provides. Remember to use `Conv3D` and `MaxPooling3D` and not `Conv2D` and `Maxpooling2D` for a 3D convolution model. You would want to use `TimeDistributed` while building a Conv2D + RNN model. Also remember that the last layer is the softmax. Design the network in such a way that the model is able to give good accuracy on the least number of parameters so that it can fit in the memory of the webcam."
   ]
  },
  {
   "cell_type": "code",
   "execution_count": 12,
   "metadata": {},
   "outputs": [],
   "source": [
    "def make_Conv3D_model():\n",
    "    #write your model here\n",
    "    model = Sequential()\n",
    "    model.add(GaussianNoise(0.01, input_shape=input_image_shape))\n",
    "    \n",
    "    model.add(Conv3D(32, (3, 3, 3), padding=\"same\", input_shape=input_image_shape))\n",
    "    model.add(Activation('relu'))\n",
    "    model.add(BatchNormalization())\n",
    "    model.add(Conv3D(32, (3, 3, 3)))\n",
    "    model.add(Activation('relu'))\n",
    "    model.add(BatchNormalization())\n",
    "    model.add(MaxPooling3D(pool_size=(2, 2, 2)))\n",
    "    model.add(Dropout(0.25))\n",
    "\n",
    "    model.add(Conv3D(64, (3, 3, 3), padding=\"same\"))\n",
    "    model.add(Activation('relu'))\n",
    "    model.add(BatchNormalization())\n",
    "    model.add(Conv3D(64, (3, 3, 3)))\n",
    "    model.add(Activation('relu'))\n",
    "    model.add(BatchNormalization())\n",
    "    model.add(MaxPooling3D(pool_size=(2, 2, 2)))\n",
    "    model.add(Dropout(0.25))\n",
    "\n",
    "    model.add(Flatten())\n",
    "    model.add(Dense(16, kernel_regularizer=l2(0.01)))\n",
    "    model.add(Activation('relu'))\n",
    "    model.add(Dropout(0.5))\n",
    "    model.add(Dense(num_classes))\n",
    "    model.add(Activation('softmax'))\n",
    "    return model\n",
    "\n",
    "def make_ConvLSTM_model():\n",
    "    lstm_input_shape = (10, 120, 120, 3)\n",
    "    \n",
    "    #write your model here\n",
    "    model = Sequential()\n",
    "    model.add(GaussianNoise(0.01, input_shape=lstm_input_shape))\n",
    "    model.add(ConvLSTM2D(16, (3, 3), padding=\"valid\",\n",
    "                     input_shape=lstm_input_shape, return_sequences=True))\n",
    "    model.add(Activation('relu'))\n",
    "#    model.add(BatchNormalization())\n",
    "#     model.add(ConvLSTM2D(32, (3, 3), return_sequences=True))\n",
    "#     model.add(Activation('relu'))\n",
    "#     model.add(BatchNormalization())\n",
    "#    model.add(MaxPooling3D(pool_size=(2, 2, 2)))\n",
    "#    model.add(Dropout(0.25))\n",
    "\n",
    "#    model.add(ConvLSTM2D(64, (3, 3), padding=\"valid\", return_sequences=True))\n",
    "#    model.add(Activation('relu'))\n",
    "#    model.add(BatchNormalization())\n",
    "#    model.add(ConvLSTM2D(64, (3, 3), return_sequences=True))\n",
    "#    model.add(Activation('relu'))\n",
    "#    model.add(BatchNormalization())\n",
    "    model.add(MaxPooling3D(pool_size=(2, 2, 2)))\n",
    "    model.add(Dropout(0.25))\n",
    "\n",
    "    model.add(Flatten())\n",
    "    model.add(Dense(32, kernel_regularizer=l2(0.01)))\n",
    "    model.add(Activation('relu'))\n",
    "    model.add(Dropout(0.1))\n",
    "    model.add(Dense(num_classes))\n",
    "    model.add(Activation('softmax'))\n",
    "    return model\n",
    "\n",
    "def make_CNN_LSTM_model():\n",
    "    model = Sequential()\n",
    "    model.add(GaussianNoise(0.01, input_shape=input_image_shape))\n",
    "    # define CNN model\n",
    "    model.add(TimeDistributed(Conv2D(24, (3, 3), padding=\"same\", activation='relu'), input_shape=input_image_shape))\n",
    "    model.add(TimeDistributed(BatchNormalization()))\n",
    "    model.add(TimeDistributed(MaxPooling2D(pool_size=(2, 2))))\n",
    "    #model.add(TimeDistributed(Conv2D(24, (3, 3), padding=\"same\", activation='relu')))\n",
    "    #model.add(TimeDistributed(BatchNormalization()))\n",
    "    #model.add(TimeDistributed(MaxPooling2D(pool_size=(2, 2))))\n",
    "#     model.add(TimeDistributed(Dropout(0.5)))\n",
    "#     model.add(TimeDistributed(Conv2D(64, (3, 3), padding=\"same\", activation='relu')))\n",
    "#     model.add(TimeDistributed(BatchNormalization()))\n",
    "#     model.add(TimeDistributed(Conv2D(64, (3, 3), padding=\"same\", activation='relu')))\n",
    "#     model.add(TimeDistributed(BatchNormalization()))\n",
    "#     model.add(TimeDistributed(MaxPooling2D(pool_size=(2, 2))))\n",
    "    model.add(TimeDistributed(Flatten()))\n",
    "    model.add(Dropout(0.2))\n",
    "    # define LSTM model\n",
    "    model.add(LSTM(32, return_sequences=True))\n",
    "#     model.add(TimeDistributed(Dropout(0.5)))\n",
    "#     model.add(LSTM(25, return_sequences=True))\n",
    "#     model.add(TimeDistributed(Dense(32, activation='relu', kernel_regularizer=l2(0.01))))\n",
    "    model.add(TimeDistributed(Dropout(0.2)))\n",
    "    model.add(Flatten())\n",
    "    model.add(Dense(num_classes, activation='softmax'))\n",
    "    return model\n"
   ]
  },
  {
   "cell_type": "code",
   "execution_count": 13,
   "metadata": {},
   "outputs": [],
   "source": [
    "from keras.models import Sequential, Model\n",
    "from keras.layers import Dense, Dropout, GRU, Flatten, TimeDistributed, Flatten, BatchNormalization, Activation, ConvLSTM2D, GaussianNoise, LSTM\n",
    "from keras.layers.convolutional import Conv2D, Conv3D, MaxPooling3D, MaxPooling2D\n",
    "from keras.callbacks import ModelCheckpoint, ReduceLROnPlateau\n",
    "from keras.regularizers import l2\n",
    "from keras import optimizers\n",
    "\n",
    "#write your model here\n",
    "model_conv3D = make_Conv3D_model()\n",
    "model_LSTM = make_ConvLSTM_model()\n",
    "model_cnn_LSTM = make_CNN_LSTM_model()\n"
   ]
  },
  {
   "cell_type": "markdown",
   "metadata": {},
   "source": [
    "Let us create the `train_generator` and the `val_generator` which will be used in `.fit_generator`."
   ]
  },
  {
   "cell_type": "code",
   "execution_count": 14,
   "metadata": {},
   "outputs": [],
   "source": [
    "train_generator = generator(train_path, train_doc, batch_size, True)\n",
    "val_generator = generator(val_path, val_doc, batch_size)"
   ]
  },
  {
   "cell_type": "code",
   "execution_count": 15,
   "metadata": {},
   "outputs": [],
   "source": [
    "model_name = 'model_init' + '_' + str(curr_dt_time).replace(' ','').replace(':','_') + '/'\n",
    "    \n",
    "if not os.path.exists(model_name):\n",
    "    os.mkdir(model_name)\n",
    "        \n",
    "filepath = model_name + 'model-{epoch:05d}-{loss:.5f}-{categorical_accuracy:.5f}-{val_loss:.5f}-{val_categorical_accuracy:.5f}.h5'\n",
    "\n",
    "checkpoint = ModelCheckpoint(filepath, monitor='val_loss', verbose=1, save_best_only=False, save_weights_only=False, mode='auto', period=1)\n",
    "\n",
    "LR = ReduceLROnPlateau(monitor='val_loss', factor=0.2,\n",
    "                              patience=3, min_lr=0.001) # write the REducelronplateau code here\n",
    "callbacks_list = [checkpoint, LR]"
   ]
  },
  {
   "cell_type": "markdown",
   "metadata": {},
   "source": [
    "The `steps_per_epoch` and `validation_steps` are used by `fit_generator` to decide the number of next() calls it need to make."
   ]
  },
  {
   "cell_type": "code",
   "execution_count": 16,
   "metadata": {},
   "outputs": [],
   "source": [
    "if (num_train_sequences%batch_size) == 0:\n",
    "    steps_per_epoch = int(num_train_sequences/batch_size)\n",
    "else:\n",
    "    steps_per_epoch = (num_train_sequences//batch_size) + 1\n",
    "\n",
    "steps_per_epoch = steps_per_epoch * 6 #Because we are augmenting each image \n",
    "\n",
    "if (num_val_sequences%batch_size) == 0:\n",
    "    validation_steps = int(num_val_sequences/batch_size)\n",
    "else:\n",
    "    validation_steps = (num_val_sequences//batch_size) + 1"
   ]
  },
  {
   "cell_type": "markdown",
   "metadata": {},
   "source": [
    "Now that you have written the model, the next step is to `compile` the model. When you print the `summary` of the model, you'll see the total number of parameters you have to train."
   ]
  },
  {
   "cell_type": "markdown",
   "metadata": {},
   "source": [
    "## Model Training"
   ]
  },
  {
   "cell_type": "markdown",
   "metadata": {},
   "source": [
    "### 1. model_conv3D = make_Conv3D_model()"
   ]
  },
  {
   "cell_type": "code",
   "execution_count": 23,
   "metadata": {
    "scrolled": false
   },
   "outputs": [
    {
     "name": "stdout",
     "output_type": "stream",
     "text": [
      "_________________________________________________________________\n",
      "Layer (type)                 Output Shape              Param #   \n",
      "=================================================================\n",
      "gaussian_noise_1 (GaussianNo (None, 10, 120, 120, 3)   0         \n",
      "_________________________________________________________________\n",
      "conv3d_1 (Conv3D)            (None, 10, 120, 120, 32)  2624      \n",
      "_________________________________________________________________\n",
      "activation_1 (Activation)    (None, 10, 120, 120, 32)  0         \n",
      "_________________________________________________________________\n",
      "batch_normalization_1 (Batch (None, 10, 120, 120, 32)  128       \n",
      "_________________________________________________________________\n",
      "conv3d_2 (Conv3D)            (None, 8, 118, 118, 32)   27680     \n",
      "_________________________________________________________________\n",
      "activation_2 (Activation)    (None, 8, 118, 118, 32)   0         \n",
      "_________________________________________________________________\n",
      "batch_normalization_2 (Batch (None, 8, 118, 118, 32)   128       \n",
      "_________________________________________________________________\n",
      "max_pooling3d_1 (MaxPooling3 (None, 4, 59, 59, 32)     0         \n",
      "_________________________________________________________________\n",
      "dropout_1 (Dropout)          (None, 4, 59, 59, 32)     0         \n",
      "_________________________________________________________________\n",
      "conv3d_3 (Conv3D)            (None, 4, 59, 59, 64)     55360     \n",
      "_________________________________________________________________\n",
      "activation_3 (Activation)    (None, 4, 59, 59, 64)     0         \n",
      "_________________________________________________________________\n",
      "batch_normalization_3 (Batch (None, 4, 59, 59, 64)     256       \n",
      "_________________________________________________________________\n",
      "conv3d_4 (Conv3D)            (None, 2, 57, 57, 64)     110656    \n",
      "_________________________________________________________________\n",
      "activation_4 (Activation)    (None, 2, 57, 57, 64)     0         \n",
      "_________________________________________________________________\n",
      "batch_normalization_4 (Batch (None, 2, 57, 57, 64)     256       \n",
      "_________________________________________________________________\n",
      "max_pooling3d_2 (MaxPooling3 (None, 1, 28, 28, 64)     0         \n",
      "_________________________________________________________________\n",
      "dropout_2 (Dropout)          (None, 1, 28, 28, 64)     0         \n",
      "_________________________________________________________________\n",
      "flatten_1 (Flatten)          (None, 50176)             0         \n",
      "_________________________________________________________________\n",
      "dense_1 (Dense)              (None, 16)                802832    \n",
      "_________________________________________________________________\n",
      "activation_5 (Activation)    (None, 16)                0         \n",
      "_________________________________________________________________\n",
      "dropout_3 (Dropout)          (None, 16)                0         \n",
      "_________________________________________________________________\n",
      "dense_2 (Dense)              (None, 5)                 85        \n",
      "_________________________________________________________________\n",
      "activation_6 (Activation)    (None, 5)                 0         \n",
      "=================================================================\n",
      "Total params: 1,000,005\n",
      "Trainable params: 999,621\n",
      "Non-trainable params: 384\n",
      "_________________________________________________________________\n",
      "None\n"
     ]
    }
   ],
   "source": [
    "optimiser = optimizers.SGD(lr=0.01, clipnorm=1.) #write your optimizer\n",
    "#optimiser = optimizers.Adam(lr=0.001, beta_1=0.9, beta_2=0.999, epsilon=None, decay=0.0, amsgrad=False)\n",
    "model_conv3D.compile(optimizer=optimiser, loss='categorical_crossentropy', metrics=['categorical_accuracy'])\n",
    "print (model_conv3D.summary())"
   ]
  },
  {
   "cell_type": "markdown",
   "metadata": {},
   "source": [
    "Let us now fit the model. This will start training the model and with the help of the checkpoints, you'll be able to save the model at the end of each epoch."
   ]
  },
  {
   "cell_type": "code",
   "execution_count": null,
   "metadata": {
    "scrolled": false
   },
   "outputs": [
    {
     "name": "stdout",
     "output_type": "stream",
     "text": [
      "Epoch 1/30\n"
     ]
    },
    {
     "name": "stderr",
     "output_type": "stream",
     "text": [
      "/mnt/disks/user/anaconda3/lib/python3.6/site-packages/skimage/transform/_warps.py:105: UserWarning: The default mode, 'constant', will be changed to 'reflect' in skimage 0.15.\n",
      "  warn(\"The default mode, 'constant', will be changed to 'reflect' in \"\n"
     ]
    },
    {
     "name": "stdout",
     "output_type": "stream",
     "text": [
      "798/798 [==============================] - 278s 348ms/step - loss: 1.9273 - categorical_accuracy: 0.2383 - val_loss: 2.0977 - val_categorical_accuracy: 0.2200\n",
      "\n",
      "Epoch 00001: saving model to model_init_2019-06-2320_14_42.038750/model-00001-1.93035-0.23906-2.09771-0.22000.h5\n",
      "Epoch 2/30\n",
      "798/798 [==============================] - 275s 344ms/step - loss: 1.9053 - categorical_accuracy: 0.2302 - val_loss: 1.7698 - val_categorical_accuracy: 0.3200\n",
      "\n",
      "Epoch 00002: saving model to model_init_2019-06-2320_14_42.038750/model-00002-1.90880-0.23027-1.76985-0.32000.h5\n",
      "Epoch 3/30\n",
      "798/798 [==============================] - 275s 345ms/step - loss: 1.8441 - categorical_accuracy: 0.2865 - val_loss: 1.6346 - val_categorical_accuracy: 0.3800\n",
      "\n",
      "Epoch 00003: saving model to model_init_2019-06-2320_14_42.038750/model-00003-1.84784-0.28683-1.63459-0.38000.h5\n",
      "Epoch 4/30\n",
      "798/798 [==============================] - 275s 345ms/step - loss: 1.7858 - categorical_accuracy: 0.3118 - val_loss: 2.0060 - val_categorical_accuracy: 0.2600\n",
      "\n",
      "Epoch 00004: saving model to model_init_2019-06-2320_14_42.038750/model-00004-1.78930-0.31222-2.00598-0.26000.h5\n",
      "Epoch 5/30\n",
      "798/798 [==============================] - 275s 345ms/step - loss: 1.8192 - categorical_accuracy: 0.2773 - val_loss: 1.5203 - val_categorical_accuracy: 0.4100\n",
      "\n",
      "Epoch 00005: saving model to model_init_2019-06-2320_14_42.038750/model-00005-1.82107-0.27728-1.52032-0.41000.h5\n",
      "Epoch 6/30\n",
      "798/798 [==============================] - 275s 345ms/step - loss: 1.7682 - categorical_accuracy: 0.3063 - val_loss: 1.5341 - val_categorical_accuracy: 0.3300\n",
      "\n",
      "Epoch 00006: saving model to model_init_2019-06-2320_14_42.038750/model-00006-1.77138-0.30644-1.53414-0.33000.h5\n",
      "Epoch 7/30\n",
      "798/798 [==============================] - 275s 345ms/step - loss: 1.7387 - categorical_accuracy: 0.3228 - val_loss: 1.6728 - val_categorical_accuracy: 0.3300\n",
      "\n",
      "Epoch 00007: saving model to model_init_2019-06-2320_14_42.038750/model-00007-1.74129-0.32328-1.67278-0.33000.h5\n",
      "Epoch 8/30\n",
      "798/798 [==============================] - 275s 345ms/step - loss: 1.7261 - categorical_accuracy: 0.3221 - val_loss: 1.4000 - val_categorical_accuracy: 0.4500\n",
      "\n",
      "Epoch 00008: saving model to model_init_2019-06-2320_14_42.038750/model-00008-1.72953-0.32202-1.40002-0.45000.h5\n",
      "Epoch 9/30\n",
      "798/798 [==============================] - 276s 345ms/step - loss: 1.7372 - categorical_accuracy: 0.3223 - val_loss: 1.6358 - val_categorical_accuracy: 0.3200\n",
      "\n",
      "Epoch 00009: saving model to model_init_2019-06-2320_14_42.038750/model-00009-1.74025-0.32278-1.63579-0.32000.h5\n",
      "Epoch 10/30\n",
      "798/798 [==============================] - 275s 345ms/step - loss: 1.7123 - categorical_accuracy: 0.3436 - val_loss: 1.5454 - val_categorical_accuracy: 0.4500\n",
      "\n",
      "Epoch 00010: saving model to model_init_2019-06-2320_14_42.038750/model-00010-1.70972-0.34414-1.54537-0.45000.h5\n",
      "Epoch 11/30\n",
      "798/798 [==============================] - 275s 345ms/step - loss: 1.6966 - categorical_accuracy: 0.3368 - val_loss: 1.5940 - val_categorical_accuracy: 0.3800\n",
      "\n",
      "Epoch 00011: saving model to model_init_2019-06-2320_14_42.038750/model-00011-1.70011-0.33736-1.59401-0.38000.h5\n",
      "Epoch 12/30\n",
      "798/798 [==============================] - 276s 346ms/step - loss: 1.6981 - categorical_accuracy: 0.3378 - val_loss: 1.5051 - val_categorical_accuracy: 0.4300\n",
      "\n",
      "Epoch 00012: saving model to model_init_2019-06-2320_14_42.038750/model-00012-1.70168-0.33736-1.50506-0.43000.h5\n",
      "Epoch 13/30\n",
      "798/798 [==============================] - 275s 344ms/step - loss: 1.6234 - categorical_accuracy: 0.3302 - val_loss: 1.3840 - val_categorical_accuracy: 0.5200\n",
      "\n",
      "Epoch 00014: saving model to model_init_2019-06-2320_14_42.038750/model-00014-1.62617-0.33107-1.38396-0.52000.h5\n",
      "Epoch 15/30\n",
      "798/798 [==============================] - 276s 346ms/step - loss: 1.6450 - categorical_accuracy: 0.3434 - val_loss: 1.4760 - val_categorical_accuracy: 0.4700\n",
      "\n",
      "Epoch 00015: saving model to model_init_2019-06-2320_14_42.038750/model-00015-1.64800-0.34339-1.47598-0.47000.h5\n",
      "Epoch 16/30\n",
      "798/798 [==============================] - 275s 345ms/step - loss: 1.6070 - categorical_accuracy: 0.3457 - val_loss: 1.4184 - val_categorical_accuracy: 0.5100\n",
      "\n",
      "Epoch 00016: saving model to model_init_2019-06-2320_14_42.038750/model-00016-1.61061-0.34490-1.41836-0.51000.h5\n",
      "Epoch 17/30\n",
      "798/798 [==============================] - 275s 345ms/step - loss: 1.6671 - categorical_accuracy: 0.3490 - val_loss: 1.3881 - val_categorical_accuracy: 0.4700\n",
      "\n",
      "Epoch 00017: saving model to model_init_2019-06-2320_14_42.038750/model-00017-1.66875-0.34967-1.38814-0.47000.h5\n",
      "Epoch 18/30\n",
      "798/798 [==============================] - 275s 345ms/step - loss: 1.6060 - categorical_accuracy: 0.3612 - val_loss: 1.3817 - val_categorical_accuracy: 0.5100\n",
      "\n",
      "Epoch 00018: saving model to model_init_2019-06-2320_14_42.038750/model-00018-1.60926-0.36174-1.38175-0.51000.h5\n",
      "Epoch 19/30\n",
      "798/798 [==============================] - 275s 345ms/step - loss: 1.6104 - categorical_accuracy: 0.3461 - val_loss: 1.3202 - val_categorical_accuracy: 0.5500\n",
      "\n",
      "Epoch 00019: saving model to model_init_2019-06-2320_14_42.038750/model-00019-1.61329-0.34565-1.32019-0.55000.h5\n",
      "Epoch 20/30\n",
      "798/798 [==============================] - 274s 344ms/step - loss: 1.5916 - categorical_accuracy: 0.3651 - val_loss: 1.3104 - val_categorical_accuracy: 0.5200\n",
      "\n",
      "Epoch 00021: saving model to model_init_2019-06-2320_14_42.038750/model-00021-1.59425-0.36601-1.31039-0.52000.h5\n",
      "Epoch 22/30\n",
      "798/798 [==============================] - 275s 345ms/step - loss: 1.5830 - categorical_accuracy: 0.3687 - val_loss: 1.3999 - val_categorical_accuracy: 0.5100\n",
      "\n",
      "Epoch 00022: saving model to model_init_2019-06-2320_14_42.038750/model-00022-1.58605-0.36928-1.39988-0.51000.h5\n",
      "Epoch 23/30\n",
      "798/798 [==============================] - 275s 345ms/step - loss: 1.6154 - categorical_accuracy: 0.3469 - val_loss: 1.3071 - val_categorical_accuracy: 0.5400\n",
      "\n",
      "Epoch 00023: saving model to model_init_2019-06-2320_14_42.038750/model-00023-1.61853-0.34741-1.30706-0.54000.h5\n",
      "Epoch 24/30\n",
      "798/798 [==============================] - 275s 345ms/step - loss: 1.5936 - categorical_accuracy: 0.3562 - val_loss: 1.3482 - val_categorical_accuracy: 0.4800\n",
      "\n",
      "Epoch 00024: saving model to model_init_2019-06-2320_14_42.038750/model-00024-1.59670-0.35646-1.34819-0.48000.h5\n",
      "Epoch 25/30\n",
      "798/798 [==============================] - 276s 345ms/step - loss: 1.5703 - categorical_accuracy: 0.3526 - val_loss: 1.3839 - val_categorical_accuracy: 0.5000\n",
      "\n",
      "Epoch 00025: saving model to model_init_2019-06-2320_14_42.038750/model-00025-1.57377-0.35269-1.38395-0.50000.h5\n",
      "Epoch 26/30\n",
      "798/798 [==============================] - 275s 345ms/step - loss: 1.5825 - categorical_accuracy: 0.3621 - val_loss: 1.3582 - val_categorical_accuracy: 0.5100\n",
      "\n",
      "Epoch 00026: saving model to model_init_2019-06-2320_14_42.038750/model-00026-1.58572-0.36249-1.35818-0.51000.h5\n",
      "Epoch 27/30\n",
      "509/798 [==================>...........] - ETA: 1:38 - loss: 1.5899 - categorical_accuracy: 0.3493"
     ]
    }
   ],
   "source": [
    "model_conv3D.fit_generator(train_generator, steps_per_epoch=steps_per_epoch, epochs=num_epochs, verbose=1, \n",
    "                    callbacks=callbacks_list, validation_data=val_generator, \n",
    "                    validation_steps=validation_steps, class_weight=None, workers=1, initial_epoch=0)"
   ]
  },
  {
   "cell_type": "markdown",
   "metadata": {},
   "source": [
    "Epoch 00026: saving model to model_init_2019-06-2320_14_42.038750/model-00026-1.58572-0.36249-1.35818-0.51000.h5\n",
    "<br>Epoch 27/30\n",
    "<br>798/798 [==============================] - 276s 345ms/step - loss: 1.5861 - categorical_accuracy: 0.3454 - val_loss: 1.2399 - val_categorical_accuracy: 0.6000\n",
    "\n",
    "Epoch 00027: saving model to model_init_2019-06-2320_14_42.038750/model-00027-1.58867-0.34590-1.23985-0.60000.h5\n",
    "<br>Epoch 28/30\n",
    "<br>798/798 [==============================] - 275s 345ms/step - loss: 1.5661 - categorical_accuracy: 0.3683 - val_loss: 1.3540 - val_categorical_accuracy: 0.4800\n",
    "\n",
    "Epoch 00028: saving model to model_init_2019-06-2320_14_42.038750/model-00028-1.56866-0.36878-1.35401-0.48000.h5\n",
    "<br>Epoch 29/30\n",
    "<br>798/798 [==============================] - 276s 345ms/step - loss: 1.5860 - categorical_accuracy: 0.3524 - val_loss: 1.4049 - val_categorical_accuracy: 0.5200\n",
    "\n",
    "Epoch 00029: saving model to model_init_2019-06-2320_14_42.038750/model-00029-1.58850-0.35344-1.40488-0.52000.h5\n",
    "<br>Epoch 30/30\n",
    "<br>798/798 [==============================] - 275s 345ms/step - loss: 1.5705 - categorical_accuracy: 0.3744 - val_loss: 1.2965 - val_categorical_accuracy: 0.5200\n",
    "\n",
    "Epoch 00030: saving model to model_init_2019-06-2320_14_42.038750/model-00030-1.57303-0.37557-1.29646-0.52000.h5\n",
    "<br><keras.callbacks.History at 0x7fb847651198>"
   ]
  },
  {
   "cell_type": "markdown",
   "metadata": {},
   "source": [
    "### 2. model_LSTM = make_ConvLSTM_model()"
   ]
  },
  {
   "cell_type": "code",
   "execution_count": 15,
   "metadata": {
    "scrolled": false
   },
   "outputs": [
    {
     "name": "stdout",
     "output_type": "stream",
     "text": [
      "_________________________________________________________________\n",
      "Layer (type)                 Output Shape              Param #   \n",
      "=================================================================\n",
      "gaussian_noise_1 (GaussianNo (None, 10, 120, 120, 3)   0         \n",
      "_________________________________________________________________\n",
      "conv_lst_m2d_1 (ConvLSTM2D)  (None, 10, 118, 118, 16)  11008     \n",
      "_________________________________________________________________\n",
      "activation_1 (Activation)    (None, 10, 118, 118, 16)  0         \n",
      "_________________________________________________________________\n",
      "max_pooling3d_1 (MaxPooling3 (None, 5, 59, 59, 16)     0         \n",
      "_________________________________________________________________\n",
      "dropout_1 (Dropout)          (None, 5, 59, 59, 16)     0         \n",
      "_________________________________________________________________\n",
      "flatten_1 (Flatten)          (None, 278480)            0         \n",
      "_________________________________________________________________\n",
      "dense_1 (Dense)              (None, 32)                8911392   \n",
      "_________________________________________________________________\n",
      "activation_2 (Activation)    (None, 32)                0         \n",
      "_________________________________________________________________\n",
      "dropout_2 (Dropout)          (None, 32)                0         \n",
      "_________________________________________________________________\n",
      "dense_2 (Dense)              (None, 5)                 165       \n",
      "_________________________________________________________________\n",
      "activation_3 (Activation)    (None, 5)                 0         \n",
      "=================================================================\n",
      "Total params: 8,922,565\n",
      "Trainable params: 8,922,565\n",
      "Non-trainable params: 0\n",
      "_________________________________________________________________\n",
      "None\n"
     ]
    }
   ],
   "source": [
    "optimiser = optimizers.SGD(lr=0.01, clipnorm=1.) #write your optimizer\n",
    "#optimiser = optimizers.Adam(lr=0.001, beta_1=0.9, beta_2=0.999, epsilon=None, decay=0.0, amsgrad=False)\n",
    "model_LSTM.compile(optimizer=optimiser, loss='categorical_crossentropy', metrics=['categorical_accuracy'])\n",
    "print (model_LSTM.summary())"
   ]
  },
  {
   "cell_type": "markdown",
   "metadata": {},
   "source": [
    "Let us now fit the model. This will start training the model and with the help of the checkpoints, you'll be able to save the model at the end of each epoch."
   ]
  },
  {
   "cell_type": "code",
   "execution_count": 19,
   "metadata": {
    "scrolled": false
   },
   "outputs": [
    {
     "name": "stdout",
     "output_type": "stream",
     "text": [
      "Epoch 1/30\n"
     ]
    },
    {
     "name": "stderr",
     "output_type": "stream",
     "text": [
      "/mnt/disks/user/anaconda3/lib/python3.6/site-packages/skimage/transform/_warps.py:105: UserWarning: The default mode, 'constant', will be changed to 'reflect' in skimage 0.15.\n",
      "  warn(\"The default mode, 'constant', will be changed to 'reflect' in \"\n"
     ]
    },
    {
     "name": "stdout",
     "output_type": "stream",
     "text": [
      "798/798 [==============================] - 301s 377ms/step - loss: 2.1988 - categorical_accuracy: 0.2612 - val_loss: 2.2168 - val_categorical_accuracy: 0.2700\n",
      "\n",
      "Epoch 00001: saving model to model_init_2019-06-2310_06_50.311870/model-00001-2.20181-0.26194-2.21679-0.27000.h5\n",
      "Epoch 2/30\n",
      "798/798 [==============================] - 173s 217ms/step - loss: 2.1519 - categorical_accuracy: 0.2843 - val_loss: 2.1680 - val_categorical_accuracy: 0.2000\n",
      "\n",
      "Epoch 00002: saving model to model_init_2019-06-2310_06_50.311870/model-00002-2.15554-0.28331-2.16801-0.20000.h5\n",
      "Epoch 3/30\n",
      "798/798 [==============================] - 174s 218ms/step - loss: 2.0891 - categorical_accuracy: 0.3098 - val_loss: 3.1609 - val_categorical_accuracy: 0.2400\n",
      "\n",
      "Epoch 00003: saving model to model_init_2019-06-2310_06_50.311870/model-00003-2.09232-0.31021-3.16093-0.24000.h5\n",
      "Epoch 4/30\n",
      "798/798 [==============================] - 173s 217ms/step - loss: 2.0228 - categorical_accuracy: 0.3415 - val_loss: 1.9338 - val_categorical_accuracy: 0.3500\n",
      "\n",
      "Epoch 00004: saving model to model_init_2019-06-2310_06_50.311870/model-00004-2.02564-0.34238-1.93375-0.35000.h5\n",
      "Epoch 5/30\n",
      "798/798 [==============================] - 174s 218ms/step - loss: 1.9777 - categorical_accuracy: 0.3811 - val_loss: 2.1317 - val_categorical_accuracy: 0.3100\n",
      "\n",
      "Epoch 00005: saving model to model_init_2019-06-2310_06_50.311870/model-00005-1.98114-0.38059-2.13171-0.31000.h5\n",
      "Epoch 6/30\n",
      "798/798 [==============================] - 174s 218ms/step - loss: 1.9288 - categorical_accuracy: 0.3866 - val_loss: 1.9256 - val_categorical_accuracy: 0.4600\n",
      "\n",
      "Epoch 00006: saving model to model_init_2019-06-2310_06_50.311870/model-00006-1.93149-0.38763-1.92563-0.46000.h5\n",
      "Epoch 7/30\n",
      "798/798 [==============================] - 173s 217ms/step - loss: 1.8642 - categorical_accuracy: 0.4299 - val_loss: 1.9231 - val_categorical_accuracy: 0.3600\n",
      "\n",
      "Epoch 00007: saving model to model_init_2019-06-2310_06_50.311870/model-00007-1.86681-0.43087-1.92311-0.36000.h5\n",
      "Epoch 8/30\n",
      "798/798 [==============================] - 173s 217ms/step - loss: 1.8618 - categorical_accuracy: 0.4378 - val_loss: 2.3677 - val_categorical_accuracy: 0.3300\n",
      "\n",
      "Epoch 00008: saving model to model_init_2019-06-2310_06_50.311870/model-00008-1.86432-0.43816-2.36769-0.33000.h5\n",
      "Epoch 9/30\n",
      "798/798 [==============================] - 173s 217ms/step - loss: 1.8099 - categorical_accuracy: 0.4551 - val_loss: 1.9799 - val_categorical_accuracy: 0.3900\n",
      "\n",
      "Epoch 00009: saving model to model_init_2019-06-2310_06_50.311870/model-00009-1.81270-0.45551-1.97989-0.39000.h5\n",
      "Epoch 10/30\n",
      "798/798 [==============================] - 173s 217ms/step - loss: 1.7679 - categorical_accuracy: 0.4789 - val_loss: 2.2328 - val_categorical_accuracy: 0.3600\n",
      "\n",
      "Epoch 00010: saving model to model_init_2019-06-2310_06_50.311870/model-00010-1.77073-0.47989-2.23282-0.36000.h5\n",
      "Epoch 11/30\n",
      "798/798 [==============================] - 172s 216ms/step - loss: 1.7646 - categorical_accuracy: 0.4682 - val_loss: 1.6465 - val_categorical_accuracy: 0.5000\n",
      "\n",
      "Epoch 00011: saving model to model_init_2019-06-2310_06_50.311870/model-00011-1.76733-0.46858-1.64648-0.50000.h5\n",
      "Epoch 12/30\n",
      "798/798 [==============================] - 172s 216ms/step - loss: 1.7485 - categorical_accuracy: 0.4884 - val_loss: 1.6277 - val_categorical_accuracy: 0.5200\n",
      "\n",
      "Epoch 00012: saving model to model_init_2019-06-2310_06_50.311870/model-00012-1.75109-0.48869-1.62767-0.52000.h5\n",
      "Epoch 13/30\n",
      "798/798 [==============================] - 173s 217ms/step - loss: 1.7064 - categorical_accuracy: 0.5033 - val_loss: 1.5962 - val_categorical_accuracy: 0.5800\n",
      "\n",
      "Epoch 00013: saving model to model_init_2019-06-2310_06_50.311870/model-00013-1.70918-0.50377-1.59623-0.58000.h5\n",
      "Epoch 14/30\n",
      "798/798 [==============================] - 173s 216ms/step - loss: 1.7196 - categorical_accuracy: 0.5021 - val_loss: 1.6834 - val_categorical_accuracy: 0.4900\n",
      "\n",
      "Epoch 00014: saving model to model_init_2019-06-2310_06_50.311870/model-00014-1.72246-0.50277-1.68344-0.49000.h5\n",
      "Epoch 15/30\n",
      "798/798 [==============================] - 173s 216ms/step - loss: 1.7062 - categorical_accuracy: 0.5094 - val_loss: 1.5961 - val_categorical_accuracy: 0.5400\n",
      "\n",
      "Epoch 00015: saving model to model_init_2019-06-2310_06_50.311870/model-00015-1.70842-0.51006-1.59613-0.54000.h5\n",
      "Epoch 16/30\n",
      "798/798 [==============================] - 173s 217ms/step - loss: 1.6572 - categorical_accuracy: 0.5381 - val_loss: 1.5400 - val_categorical_accuracy: 0.5600\n",
      "\n",
      "Epoch 00016: saving model to model_init_2019-06-2310_06_50.311870/model-00016-1.65910-0.53922-1.54003-0.56000.h5\n",
      "Epoch 17/30\n",
      "798/798 [==============================] - 172s 216ms/step - loss: 1.6791 - categorical_accuracy: 0.5231 - val_loss: 1.5483 - val_categorical_accuracy: 0.5600\n",
      "\n",
      "Epoch 00017: saving model to model_init_2019-06-2310_06_50.311870/model-00017-1.68199-0.52363-1.54834-0.56000.h5\n",
      "Epoch 18/30\n",
      "798/798 [==============================] - 173s 217ms/step - loss: 1.6704 - categorical_accuracy: 0.5329 - val_loss: 1.5195 - val_categorical_accuracy: 0.6000\n",
      "\n",
      "Epoch 00018: saving model to model_init_2019-06-2310_06_50.311870/model-00018-1.67262-0.53369-1.51954-0.60000.h5\n",
      "Epoch 19/30\n",
      "798/798 [==============================] - 173s 217ms/step - loss: 1.6572 - categorical_accuracy: 0.5262 - val_loss: 1.5203 - val_categorical_accuracy: 0.5600\n",
      "\n",
      "Epoch 00019: saving model to model_init_2019-06-2310_06_50.311870/model-00019-1.65929-0.52715-1.52032-0.56000.h5\n",
      "Epoch 20/30\n",
      "798/798 [==============================] - 173s 217ms/step - loss: 1.6375 - categorical_accuracy: 0.5409 - val_loss: 1.5363 - val_categorical_accuracy: 0.5900\n",
      "\n",
      "Epoch 00020: saving model to model_init_2019-06-2310_06_50.311870/model-00020-1.63956-0.54223-1.53628-0.59000.h5\n",
      "Epoch 21/30\n",
      "798/798 [==============================] - 173s 217ms/step - loss: 1.6375 - categorical_accuracy: 0.5472 - val_loss: 1.5297 - val_categorical_accuracy: 0.6100\n",
      "\n",
      "Epoch 00021: saving model to model_init_2019-06-2310_06_50.311870/model-00021-1.64015-0.54801-1.52975-0.61000.h5\n",
      "Epoch 22/30\n",
      "798/798 [==============================] - 173s 217ms/step - loss: 1.6322 - categorical_accuracy: 0.5541 - val_loss: 1.5063 - val_categorical_accuracy: 0.6200\n",
      "\n",
      "Epoch 00022: saving model to model_init_2019-06-2310_06_50.311870/model-00022-1.63445-0.55530-1.50633-0.62000.h5\n",
      "Epoch 23/30\n",
      "798/798 [==============================] - 173s 217ms/step - loss: 1.6194 - categorical_accuracy: 0.5543 - val_loss: 1.5019 - val_categorical_accuracy: 0.6400\n",
      "\n",
      "Epoch 00023: saving model to model_init_2019-06-2310_06_50.311870/model-00023-1.62211-0.55430-1.50190-0.64000.h5\n",
      "Epoch 24/30\n",
      "798/798 [==============================] - 173s 217ms/step - loss: 1.6301 - categorical_accuracy: 0.5453 - val_loss: 1.4860 - val_categorical_accuracy: 0.6400\n",
      "\n",
      "Epoch 00024: saving model to model_init_2019-06-2310_06_50.311870/model-00024-1.63286-0.54625-1.48596-0.64000.h5\n",
      "Epoch 25/30\n",
      "798/798 [==============================] - 173s 217ms/step - loss: 1.6013 - categorical_accuracy: 0.5606 - val_loss: 1.4702 - val_categorical_accuracy: 0.6100\n",
      "\n",
      "Epoch 00025: saving model to model_init_2019-06-2310_06_50.311870/model-00025-1.60343-0.56159-1.47019-0.61000.h5\n",
      "Epoch 26/30\n",
      "798/798 [==============================] - 174s 218ms/step - loss: 1.6216 - categorical_accuracy: 0.5497 - val_loss: 1.5496 - val_categorical_accuracy: 0.5900\n",
      "\n",
      "Epoch 00026: saving model to model_init_2019-06-2310_06_50.311870/model-00026-1.62390-0.55003-1.54963-0.59000.h5\n",
      "Epoch 27/30\n",
      "798/798 [==============================] - 174s 217ms/step - loss: 1.6180 - categorical_accuracy: 0.5536 - val_loss: 1.4722 - val_categorical_accuracy: 0.5800\n",
      "\n",
      "Epoch 00027: saving model to model_init_2019-06-2310_06_50.311870/model-00027-1.62001-0.55455-1.47224-0.58000.h5\n",
      "Epoch 28/30\n",
      "798/798 [==============================] - 173s 217ms/step - loss: 1.6150 - categorical_accuracy: 0.5458 - val_loss: 1.4843 - val_categorical_accuracy: 0.6100\n",
      "\n",
      "Epoch 00028: saving model to model_init_2019-06-2310_06_50.311870/model-00028-1.61731-0.54625-1.48429-0.61000.h5\n",
      "Epoch 29/30\n",
      "798/798 [==============================] - 173s 217ms/step - loss: 1.6043 - categorical_accuracy: 0.5556 - val_loss: 1.4959 - val_categorical_accuracy: 0.6000\n",
      "\n",
      "Epoch 00029: saving model to model_init_2019-06-2310_06_50.311870/model-00029-1.60687-0.55656-1.49591-0.60000.h5\n",
      "Epoch 30/30\n"
     ]
    },
    {
     "name": "stdout",
     "output_type": "stream",
     "text": [
      "798/798 [==============================] - 174s 218ms/step - loss: 1.6135 - categorical_accuracy: 0.5502 - val_loss: 1.4691 - val_categorical_accuracy: 0.6000\n",
      "\n",
      "Epoch 00030: saving model to model_init_2019-06-2310_06_50.311870/model-00030-1.61525-0.55153-1.46911-0.60000.h5\n"
     ]
    },
    {
     "data": {
      "text/plain": [
       "<keras.callbacks.History at 0x7fd9acb9e550>"
      ]
     },
     "execution_count": 19,
     "metadata": {},
     "output_type": "execute_result"
    }
   ],
   "source": [
    "model_LSTM.fit_generator(train_generator, steps_per_epoch=steps_per_epoch, epochs=num_epochs, verbose=1, \n",
    "                    callbacks=callbacks_list, validation_data=val_generator, \n",
    "                    validation_steps=validation_steps, class_weight=None, workers=1, initial_epoch=0)"
   ]
  },
  {
   "cell_type": "markdown",
   "metadata": {},
   "source": [
    "### 3. model_cnn_LSTM = make_CNN_LSTM_model()"
   ]
  },
  {
   "cell_type": "code",
   "execution_count": 17,
   "metadata": {
    "scrolled": false
   },
   "outputs": [
    {
     "name": "stdout",
     "output_type": "stream",
     "text": [
      "_________________________________________________________________\n",
      "Layer (type)                 Output Shape              Param #   \n",
      "=================================================================\n",
      "gaussian_noise_3 (GaussianNo (None, 10, 120, 120, 3)   0         \n",
      "_________________________________________________________________\n",
      "time_distributed_1 (TimeDist (None, 10, 120, 120, 24)  672       \n",
      "_________________________________________________________________\n",
      "time_distributed_2 (TimeDist (None, 10, 120, 120, 24)  96        \n",
      "_________________________________________________________________\n",
      "time_distributed_3 (TimeDist (None, 10, 60, 60, 24)    0         \n",
      "_________________________________________________________________\n",
      "time_distributed_4 (TimeDist (None, 10, 86400)         0         \n",
      "_________________________________________________________________\n",
      "dropout_6 (Dropout)          (None, 10, 86400)         0         \n",
      "_________________________________________________________________\n",
      "lstm_1 (LSTM)                (None, 10, 32)            11063424  \n",
      "_________________________________________________________________\n",
      "time_distributed_5 (TimeDist (None, 10, 32)            0         \n",
      "_________________________________________________________________\n",
      "flatten_4 (Flatten)          (None, 320)               0         \n",
      "_________________________________________________________________\n",
      "dense_5 (Dense)              (None, 5)                 1605      \n",
      "=================================================================\n",
      "Total params: 11,065,797\n",
      "Trainable params: 11,065,749\n",
      "Non-trainable params: 48\n",
      "_________________________________________________________________\n",
      "None\n"
     ]
    }
   ],
   "source": [
    "optimiser = optimizers.SGD(lr=0.01, clipnorm=1.) #write your optimizer\n",
    "#optimiser = optimizers.Adam(lr=0.001, beta_1=0.9, beta_2=0.999, epsilon=None, decay=0.0, amsgrad=False)\n",
    "model_cnn_LSTM.compile(optimizer=optimiser, loss='categorical_crossentropy', metrics=['categorical_accuracy'])\n",
    "print (model_cnn_LSTM.summary())"
   ]
  },
  {
   "cell_type": "markdown",
   "metadata": {},
   "source": [
    "Let us now fit the model. This will start training the model and with the help of the checkpoints, you'll be able to save the model at the end of each epoch."
   ]
  },
  {
   "cell_type": "code",
   "execution_count": 18,
   "metadata": {
    "scrolled": false
   },
   "outputs": [
    {
     "name": "stdout",
     "output_type": "stream",
     "text": [
      "Epoch 1/30\n"
     ]
    },
    {
     "name": "stderr",
     "output_type": "stream",
     "text": [
      "/mnt/disks/user/anaconda3/lib/python3.6/site-packages/skimage/transform/_warps.py:105: UserWarning: The default mode, 'constant', will be changed to 'reflect' in skimage 0.15.\n",
      "  warn(\"The default mode, 'constant', will be changed to 'reflect' in \"\n"
     ]
    },
    {
     "name": "stdout",
     "output_type": "stream",
     "text": [
      "798/798 [==============================] - 137s 172ms/step - loss: 1.4264 - categorical_accuracy: 0.3929 - val_loss: 1.4702 - val_categorical_accuracy: 0.3300\n",
      "\n",
      "Epoch 00002: saving model to model_init_2019-06-2410_39_51.646150/model-00002-1.42936-0.39341-1.47015-0.33000.h5\n",
      "Epoch 3/30\n",
      "798/798 [==============================] - 142s 177ms/step - loss: 1.3287 - categorical_accuracy: 0.4353 - val_loss: 1.3707 - val_categorical_accuracy: 0.4600\n",
      "\n",
      "Epoch 00003: saving model to model_init_2019-06-2410_39_51.646150/model-00003-1.33171-0.43590-1.37072-0.46000.h5\n",
      "Epoch 4/30\n",
      "798/798 [==============================] - 143s 179ms/step - loss: 1.2554 - categorical_accuracy: 0.4617 - val_loss: 1.3650 - val_categorical_accuracy: 0.4100\n",
      "\n",
      "Epoch 00004: saving model to model_init_2019-06-2410_39_51.646150/model-00004-1.25797-0.46280-1.36496-0.41000.h5\n",
      "Epoch 5/30\n",
      "798/798 [==============================] - 149s 186ms/step - loss: 1.2042 - categorical_accuracy: 0.4896 - val_loss: 1.2741 - val_categorical_accuracy: 0.3800\n",
      "\n",
      "Epoch 00005: saving model to model_init_2019-06-2410_39_51.646150/model-00005-1.20749-0.48994-1.27407-0.38000.h5\n",
      "Epoch 6/30\n",
      "798/798 [==============================] - 149s 187ms/step - loss: 1.1733 - categorical_accuracy: 0.4900 - val_loss: 1.3102 - val_categorical_accuracy: 0.4300\n",
      "\n",
      "Epoch 00006: saving model to model_init_2019-06-2410_39_51.646150/model-00006-1.17485-0.49045-1.31022-0.43000.h5\n",
      "Epoch 7/30\n",
      "798/798 [==============================] - 147s 185ms/step - loss: 1.1184 - categorical_accuracy: 0.5262 - val_loss: 1.3572 - val_categorical_accuracy: 0.4300\n",
      "\n",
      "Epoch 00007: saving model to model_init_2019-06-2410_39_51.646150/model-00007-1.12087-0.52665-1.35717-0.43000.h5\n",
      "Epoch 8/30\n",
      "798/798 [==============================] - 150s 188ms/step - loss: 1.1158 - categorical_accuracy: 0.5288 - val_loss: 1.3025 - val_categorical_accuracy: 0.4600\n",
      "\n",
      "Epoch 00008: saving model to model_init_2019-06-2410_39_51.646150/model-00008-1.11763-0.52941-1.30252-0.46000.h5\n",
      "Epoch 9/30\n",
      "798/798 [==============================] - 148s 186ms/step - loss: 1.1079 - categorical_accuracy: 0.5162 - val_loss: 1.1243 - val_categorical_accuracy: 0.5400\n",
      "\n",
      "Epoch 00009: saving model to model_init_2019-06-2410_39_51.646150/model-00009-1.11033-0.51709-1.12429-0.54000.h5\n",
      "Epoch 10/30\n",
      "798/798 [==============================] - 150s 188ms/step - loss: 1.1025 - categorical_accuracy: 0.5270 - val_loss: 1.1665 - val_categorical_accuracy: 0.5100\n",
      "\n",
      "Epoch 00010: saving model to model_init_2019-06-2410_39_51.646150/model-00010-1.10331-0.52740-1.16645-0.51000.h5\n",
      "Epoch 11/30\n",
      "798/798 [==============================] - 147s 184ms/step - loss: 1.0661 - categorical_accuracy: 0.5402 - val_loss: 1.1235 - val_categorical_accuracy: 0.5300\n",
      "\n",
      "Epoch 00011: saving model to model_init_2019-06-2410_39_51.646150/model-00011-1.06810-0.54148-1.12347-0.53000.h5\n",
      "Epoch 12/30\n",
      "798/798 [==============================] - 147s 184ms/step - loss: 1.0773 - categorical_accuracy: 0.5512 - val_loss: 1.1403 - val_categorical_accuracy: 0.4800\n",
      "\n",
      "Epoch 00012: saving model to model_init_2019-06-2410_39_51.646150/model-00012-1.07951-0.55153-1.14029-0.48000.h5\n",
      "Epoch 13/30\n",
      "798/798 [==============================] - 146s 183ms/step - loss: 1.0630 - categorical_accuracy: 0.5565 - val_loss: 1.2043 - val_categorical_accuracy: 0.4500\n",
      "\n",
      "Epoch 00013: saving model to model_init_2019-06-2410_39_51.646150/model-00013-1.06575-0.55631-1.20432-0.45000.h5\n",
      "Epoch 14/30\n",
      "798/798 [==============================] - 147s 184ms/step - loss: 1.0449 - categorical_accuracy: 0.5622 - val_loss: 1.1931 - val_categorical_accuracy: 0.4700\n",
      "\n",
      "Epoch 00014: saving model to model_init_2019-06-2410_39_51.646150/model-00014-1.04763-0.56285-1.19307-0.47000.h5\n",
      "Epoch 15/30\n",
      "798/798 [==============================] - 151s 189ms/step - loss: 1.0586 - categorical_accuracy: 0.5591 - val_loss: 1.1098 - val_categorical_accuracy: 0.4900\n",
      "\n",
      "Epoch 00015: saving model to model_init_2019-06-2410_39_51.646150/model-00015-1.06081-0.55933-1.10982-0.49000.h5\n",
      "Epoch 16/30\n",
      "798/798 [==============================] - 148s 186ms/step - loss: 1.0495 - categorical_accuracy: 0.5589 - val_loss: 1.1352 - val_categorical_accuracy: 0.5300\n",
      "\n",
      "Epoch 00016: saving model to model_init_2019-06-2410_39_51.646150/model-00016-1.05251-0.55807-1.13525-0.53000.h5\n",
      "Epoch 17/30\n",
      "798/798 [==============================] - 146s 183ms/step - loss: 1.0498 - categorical_accuracy: 0.5571 - val_loss: 1.1114 - val_categorical_accuracy: 0.5100\n",
      "\n",
      "Epoch 00017: saving model to model_init_2019-06-2410_39_51.646150/model-00017-1.05207-0.55757-1.11137-0.51000.h5\n",
      "Epoch 18/30\n",
      "798/798 [==============================] - 147s 184ms/step - loss: 1.0555 - categorical_accuracy: 0.5516 - val_loss: 1.1296 - val_categorical_accuracy: 0.5000\n",
      "\n",
      "Epoch 00018: saving model to model_init_2019-06-2410_39_51.646150/model-00018-1.05765-0.55229-1.12957-0.50000.h5\n",
      "Epoch 19/30\n",
      "798/798 [==============================] - 150s 189ms/step - loss: 1.0399 - categorical_accuracy: 0.5468 - val_loss: 1.1444 - val_categorical_accuracy: 0.4800\n",
      "\n",
      "Epoch 00019: saving model to model_init_2019-06-2410_39_51.646150/model-00019-1.04233-0.54726-1.14438-0.48000.h5\n",
      "Epoch 20/30\n",
      "798/798 [==============================] - 147s 185ms/step - loss: 1.0434 - categorical_accuracy: 0.5648 - val_loss: 1.1485 - val_categorical_accuracy: 0.5000\n",
      "\n",
      "Epoch 00020: saving model to model_init_2019-06-2410_39_51.646150/model-00020-1.04502-0.56536-1.14853-0.50000.h5\n",
      "Epoch 21/30\n",
      "798/798 [==============================] - 151s 189ms/step - loss: 1.0517 - categorical_accuracy: 0.5613 - val_loss: 1.1543 - val_categorical_accuracy: 0.4900\n",
      "\n",
      "Epoch 00021: saving model to model_init_2019-06-2410_39_51.646150/model-00021-1.05351-0.56184-1.15433-0.49000.h5\n",
      "Epoch 22/30\n",
      "798/798 [==============================] - 151s 189ms/step - loss: 1.0267 - categorical_accuracy: 0.5763 - val_loss: 1.1905 - val_categorical_accuracy: 0.4700\n",
      "\n",
      "Epoch 00022: saving model to model_init_2019-06-2410_39_51.646150/model-00022-1.02864-0.57667-1.19047-0.47000.h5\n",
      "Epoch 23/30\n",
      "798/798 [==============================] - 148s 185ms/step - loss: 1.0516 - categorical_accuracy: 0.5504 - val_loss: 1.1492 - val_categorical_accuracy: 0.4800\n",
      "\n",
      "Epoch 00023: saving model to model_init_2019-06-2410_39_51.646150/model-00023-1.05334-0.55103-1.14917-0.48000.h5\n",
      "Epoch 24/30\n",
      "798/798 [==============================] - 148s 185ms/step - loss: 1.0508 - categorical_accuracy: 0.5468 - val_loss: 1.0958 - val_categorical_accuracy: 0.5100\n",
      "\n",
      "Epoch 00024: saving model to model_init_2019-06-2410_39_51.646150/model-00024-1.05334-0.54726-1.09578-0.51000.h5\n",
      "Epoch 25/30\n",
      "798/798 [==============================] - 147s 184ms/step - loss: 1.0405 - categorical_accuracy: 0.5637 - val_loss: 1.1355 - val_categorical_accuracy: 0.4900\n",
      "\n",
      "Epoch 00025: saving model to model_init_2019-06-2410_39_51.646150/model-00025-1.04332-0.56410-1.13554-0.49000.h5\n",
      "Epoch 26/30\n",
      "798/798 [==============================] - 148s 186ms/step - loss: 1.0259 - categorical_accuracy: 0.5649 - val_loss: 1.1091 - val_categorical_accuracy: 0.5000\n",
      "\n",
      "Epoch 00026: saving model to model_init_2019-06-2410_39_51.646150/model-00026-1.02807-0.56611-1.10914-0.50000.h5\n",
      "Epoch 27/30\n",
      "798/798 [==============================] - 150s 187ms/step - loss: 1.0393 - categorical_accuracy: 0.5635 - val_loss: 1.1440 - val_categorical_accuracy: 0.4700\n",
      "\n",
      "Epoch 00027: saving model to model_init_2019-06-2410_39_51.646150/model-00027-1.04102-0.56385-1.14402-0.47000.h5\n",
      "Epoch 28/30\n",
      "798/798 [==============================] - 147s 184ms/step - loss: 1.0067 - categorical_accuracy: 0.5730 - val_loss: 1.1458 - val_categorical_accuracy: 0.4900\n",
      "\n",
      "Epoch 00028: saving model to model_init_2019-06-2410_39_51.646150/model-00028-1.00848-0.57340-1.14581-0.49000.h5\n",
      "Epoch 29/30\n",
      "798/798 [==============================] - 147s 184ms/step - loss: 1.0317 - categorical_accuracy: 0.5627 - val_loss: 1.1442 - val_categorical_accuracy: 0.5000\n",
      "\n",
      "Epoch 00029: saving model to model_init_2019-06-2410_39_51.646150/model-00029-1.03309-0.56410-1.14419-0.50000.h5\n",
      "Epoch 30/30\n",
      "798/798 [==============================] - 147s 184ms/step - loss: 1.0172 - categorical_accuracy: 0.5680 - val_loss: 1.1423 - val_categorical_accuracy: 0.5200\n",
      "\n",
      "Epoch 00030: saving model to model_init_2019-06-2410_39_51.646150/model-00030-1.01867-0.56938-1.14229-0.52000.h5\n"
     ]
    },
    {
     "data": {
      "text/plain": [
       "<keras.callbacks.History at 0x7f63f8127128>"
      ]
     },
     "execution_count": 18,
     "metadata": {},
     "output_type": "execute_result"
    }
   ],
   "source": [
    "model_cnn_LSTM.fit_generator(train_generator, steps_per_epoch=steps_per_epoch, epochs=num_epochs, verbose=1, \n",
    "                    callbacks=callbacks_list, validation_data=val_generator, \n",
    "                    validation_steps=validation_steps, class_weight=None, workers=1, initial_epoch=0)"
   ]
  },
  {
   "cell_type": "code",
   "execution_count": null,
   "metadata": {},
   "outputs": [],
   "source": []
  }
 ],
 "metadata": {
  "kernelspec": {
   "display_name": "Python 3",
   "language": "python",
   "name": "python3"
  },
  "language_info": {
   "codemirror_mode": {
    "name": "ipython",
    "version": 3
   },
   "file_extension": ".py",
   "mimetype": "text/x-python",
   "name": "python",
   "nbconvert_exporter": "python",
   "pygments_lexer": "ipython3",
   "version": "3.6.8"
  }
 },
 "nbformat": 4,
 "nbformat_minor": 2
}
