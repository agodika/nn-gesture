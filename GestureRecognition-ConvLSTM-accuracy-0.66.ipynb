{
 "cells": [
  {
   "cell_type": "markdown",
   "metadata": {},
   "source": [
    "# Gesture Recognition\n",
    "In this group project, you are going to build a 3D Conv model that will be able to predict the 5 gestures correctly. Please import the following libraries to get started."
   ]
  },
  {
   "cell_type": "code",
   "execution_count": 1,
   "metadata": {},
   "outputs": [],
   "source": [
    "import numpy as np\n",
    "import os\n",
    "#from scipy.misc import imread, imresize\n",
    "import datetime\n",
    "import os\n",
    "#import matplotlib.pyplot as plt\n",
    "from skimage import io\n",
    "from skimage.transform import rescale, resize, downscale_local_mean"
   ]
  },
  {
   "cell_type": "code",
   "execution_count": 2,
   "metadata": {},
   "outputs": [],
   "source": [
    "import matplotlib.pyplot as plt"
   ]
  },
  {
   "cell_type": "markdown",
   "metadata": {},
   "source": [
    "We set the random seed so that the results don't vary drastically."
   ]
  },
  {
   "cell_type": "code",
   "execution_count": 3,
   "metadata": {},
   "outputs": [
    {
     "name": "stderr",
     "output_type": "stream",
     "text": [
      "Using TensorFlow backend.\n"
     ]
    }
   ],
   "source": [
    "np.random.seed(30)\n",
    "import random as rn\n",
    "rn.seed(30)\n",
    "from keras import backend as K\n",
    "import tensorflow as tf\n",
    "tf.set_random_seed(30)"
   ]
  },
  {
   "cell_type": "markdown",
   "metadata": {},
   "source": [
    "In this block, you read the folder names for training and validation. You also set the `batch_size` here. Note that you set the batch size in such a way that you are able to use the GPU in full capacity. You keep increasing the batch size until the machine throws an error."
   ]
  },
  {
   "cell_type": "code",
   "execution_count": 4,
   "metadata": {},
   "outputs": [],
   "source": [
    "data_path = './Project_data'\n",
    "train_path = f'{data_path}/train'\n",
    "val_path = f'{data_path}/val'\n"
   ]
  },
  {
   "cell_type": "code",
   "execution_count": 5,
   "metadata": {},
   "outputs": [],
   "source": [
    "train_doc = np.random.permutation(open(f'{data_path}/train.csv').readlines())\n",
    "val_doc = np.random.permutation(open(f'{data_path}/val.csv').readlines())\n",
    "batch_size = 5 #experiment with the batch size"
   ]
  },
  {
   "cell_type": "code",
   "execution_count": 6,
   "metadata": {},
   "outputs": [
    {
     "data": {
      "text/plain": [
       "array(['WIN_20180926_16_54_08_Pro_Right_Swipe_new;Right_Swipe_new;1\\n',\n",
       "       'WIN_20180925_18_02_58_Pro_Thumbs_Down_new;Thumbs_Down_new;3\\n',\n",
       "       'WIN_20180925_17_33_08_Pro_Left_Swipe_new;Left_Swipe_new;0\\n',\n",
       "       'WIN_20180925_17_51_17_Pro_Thumbs_Up_new;Thumbs_Up_new;4\\n',\n",
       "       'WIN_20180926_17_17_35_Pro_Left_Swipe_new;Left_Swipe_new;0\\n',\n",
       "       'WIN_20180926_17_30_47_Pro_Thumbs_Up_new;Thumbs_Up_new;4\\n',\n",
       "       'WIN_20180926_17_29_23_Pro_Stop_new;Stop_new;2\\n',\n",
       "       'WIN_20180926_17_12_26_Pro_Thumbs_Up_new;Thumbs_Up_new;4\\n',\n",
       "       'WIN_20180926_17_29_01_Pro_Stop_new;Stop_new;2\\n',\n",
       "       'WIN_20180907_16_32_11_Pro_Stop Gesture_new;Stop Gesture_new;2\\n'],\n",
       "      dtype='<U88')"
      ]
     },
     "execution_count": 6,
     "metadata": {},
     "output_type": "execute_result"
    }
   ],
   "source": [
    "train_doc[0:10]"
   ]
  },
  {
   "cell_type": "code",
   "execution_count": 7,
   "metadata": {},
   "outputs": [
    {
     "data": {
      "text/plain": [
       "132"
      ]
     },
     "execution_count": 7,
     "metadata": {},
     "output_type": "execute_result"
    }
   ],
   "source": [
    "len(train_doc) // batch_size"
   ]
  },
  {
   "cell_type": "markdown",
   "metadata": {},
   "source": [
    "## Generator\n",
    "This is one of the most important part of the code. The overall structure of the generator has been given. In the generator, you are going to preprocess the images as you have images of 2 different dimensions as well as create a batch of video frames. You have to experiment with `img_idx`, `y`,`z` and normalization such that you get high accuracy."
   ]
  },
  {
   "cell_type": "code",
   "execution_count": 8,
   "metadata": {},
   "outputs": [],
   "source": [
    "from skimage import transform as tf\n",
    "from skimage.util import random_noise\n",
    "from skimage import exposure\n",
    "from skimage.transform import rotate as rot\n",
    "\n",
    "def normalize(image):\n",
    "#     return image/255\n",
    "#    return image - np.percentile(image,5)/ np.percentile(image,95) - np.percentile(image,5)\n",
    "     return image - np.min(image)/np.max(image) - np.min(image)\n",
    "\n",
    "def identity(image):\n",
    "    return image\n",
    "\n",
    "def flip_lr(image):\n",
    "    return np.fliplr(image)\n",
    "\n",
    "def inc_contrast(image):\n",
    "    v_min, v_max = np.percentile(image, (0.2, 99.8))\n",
    "    return exposure.rescale_intensity(image, in_range=(v_min, v_max))\n",
    "\n",
    "def inc_brightness(image):\n",
    "    return exposure.adjust_gamma(image, gamma=0.4, gain=0.9)\n",
    "\n",
    "def bright_jitter(image):\n",
    "    return image*0.999 + np.zeros_like(image)*0.001\n",
    "\n",
    "def noise(image):\n",
    "    return random_noise(image)\n",
    "\n",
    "def rotate(image):\n",
    "    return rot(image, rn.choice(range(5,20)))\n",
    "\n",
    "def rotate_anti(image):\n",
    "    return rot(image, rn.choice(range(-20,-5)))\n",
    "\n",
    "def shift_left(image):\n",
    "    #M = np.float32([[1, 0, -25], [0, 1, 0]])\n",
    "    # translation\n",
    "    #(rows, cols) = image.shape[:2] \n",
    "    #return cv2.warpAffine(image, M, (cols, rows))\n",
    "    transaltion_transforms = tf.AffineTransform(translation=(rn.choice(range(15,40)), 0))\n",
    "    return tf.warp(image, transaltion_transforms)\n",
    "\n",
    "def shift_right(image):\n",
    "    transaltion_transforms = tf.AffineTransform(translation=(rn.choice(range(-40,-15)), 0))\n",
    "    return tf.warp(image, transaltion_transforms)\n",
    "\n",
    "def shift_up(image):\n",
    "    transaltion_transforms = tf.AffineTransform(translation=(0, rn.choice(range(-40,-15))))\n",
    "    return tf.warp(image, transaltion_transforms)\n",
    "\n",
    "def shift_down(image):\n",
    "    transaltion_transforms = tf.AffineTransform(translation=(0, rn.choice(range(15, 40))))\n",
    "    return tf.warp(image, transaltion_transforms)\n",
    "\n",
    "def zoom_in(image):\n",
    "    # specify x and y coordinates to be used for shifting (mid points)\n",
    "    shift_x, shift_y = image.shape[0]/2, image.shape[1]/2\n",
    "\n",
    "    # translation by certain units\n",
    "    matrix_to_topleft = tf.SimilarityTransform(translation=[-shift_x, -shift_y])\n",
    "    matrix_to_center = tf.SimilarityTransform(translation=[shift_x, shift_y])\n",
    "\n",
    "    zoom = rn.choice(range(60,90,5))/100\n",
    "    scale_transforms = tf.AffineTransform(scale=(zoom, zoom))\n",
    "    scale_matrix = matrix_to_topleft + scale_transforms + matrix_to_center\n",
    "    scale_image_zoom_in = tf.warp(image, scale_matrix)\n",
    "    return scale_image_zoom_in\n",
    "\n",
    "def zoom_out(image):\n",
    "    # specify x and y coordinates to be used for shifting (mid points)\n",
    "    shift_x, shift_y = image.shape[0]/2, image.shape[1]/2\n",
    "\n",
    "    # translation by certain units\n",
    "    matrix_to_topleft = tf.SimilarityTransform(translation=[-shift_x, -shift_y])\n",
    "    matrix_to_center = tf.SimilarityTransform(translation=[shift_x, shift_y])\n",
    "\n",
    "    # scaling \n",
    "    zoom = rn.choice(range(130,160,5))/100\n",
    "    scale_transforms = tf.AffineTransform(scale=(zoom, zoom))\n",
    "    scale_matrix = matrix_to_topleft + scale_transforms + matrix_to_center\n",
    "    scale_image_zoom_out = tf.warp(image, scale_matrix)\n",
    "\n",
    "    return scale_image_zoom_out\n",
    "\n",
    "\n",
    "def feed_image(batch_data, folder, idx, image):\n",
    "    batch_data[folder,idx,:,:,0] = image[:, :, 0] #normalise and feed in the image\n",
    "    batch_data[folder,idx,:,:,1] = image[:, :, 1] #normalise and feed in the image\n",
    "    batch_data[folder,idx,:,:,2] = image[:, :, 2] #normalise and feed in the image\n",
    "\n",
    "def augment_batch(batch_data, fn):\n",
    "    new_batch = np.zeros(batch_data.shape)\n",
    "    (folders, indices,_,_,_) = batch_data.shape\n",
    "    for folder in range(folders):\n",
    "        for idx in range(indices):\n",
    "            for channel in range(3):\n",
    "                new_batch[folder,idx,:,:,channel] = normalize(fn(batch_data[folder,idx,:,:,channel]))\n",
    "    return new_batch\n",
    "\n",
    "def augment_batch_2(batch_data, fns):\n",
    "    new_batch = np.zeros(batch_data.shape)\n",
    "    funcs = rn.sample(fns, rn.choice([1, 2, 3]))\n",
    "    (folders, indices,_,_,_) = batch_data.shape\n",
    "    for folder in range(folders):\n",
    "        for idx in range(indices):\n",
    "            for channel in range(3):\n",
    "                image = batch_data[folder,idx,:,:,channel] \n",
    "                for fn in funcs:\n",
    "                    image = fn(image)\n",
    "                new_batch[folder,idx,:,:,channel] = normalize(image)\n",
    "    return new_batch\n",
    "\n",
    "\n",
    "def generator(source_path, folder_list, batch_size, augment=False):\n",
    "    #print( 'Source path = ', source_path, '; batch size =', batch_size)\n",
    "    img_idx = list(range(0, 30, 3)) #create a list of image numbers you want to use for a particular video\n",
    "    x = len(img_idx) # number of images for each video\n",
    "    y = 120          # height of each input image\n",
    "    z = 120          # width of each input image\n",
    "    large=(360, 360, 3)\n",
    "    small=(120, 160, 3)\n",
    "    while True:\n",
    "        t = np.random.permutation(folder_list)\n",
    "        num_batches = len(folder_list) // batch_size # calculate the number of batches\n",
    "        for batch in range(num_batches): # we iterate over the number of batches\n",
    "            batch_data = np.zeros((batch_size,x,y,z,3)) # x is the number of images you use for each video, (y,z) is the final size of the input images and 3 is the number of channels RGB\n",
    "            batch_labels = np.zeros((batch_size,5)) # batch_labels is the one hot representation of the output\n",
    "            for folder in range(batch_size): # iterate over the batch_size\n",
    "                imgs = os.listdir(source_path+'/'+ t[folder + (batch*batch_size)].split(';')[0]) # read all the images in the folder\n",
    "                for idx,item in enumerate(img_idx): #  Iterate iver the frames/images of a folder to read them in\n",
    "                    #print(\"Reading \", source_path+'/'+ t[folder + (batch*batch_size)].strip().split(';')[0]+'/'+imgs[item])\n",
    "                    image = io.imread(source_path+'/'+ t[folder + (batch*batch_size)].strip().split(';')[0]+'/'+imgs[item])\n",
    "\n",
    "                    #crop the images and resize them. Note that the images are of 2 different shape \n",
    "                    #and the conv3D will throw error if the inputs in a batch have different shapes\n",
    "                    if (image.shape == large):\n",
    "                        image = resize(image, (y, z), anti_aliasing=False)\n",
    "                    else:\n",
    "                        image = image[:, 20:140, :]\n",
    "                    \n",
    "                    feed_image(batch_data, folder, idx, image)\n",
    "                    \n",
    "                batch_labels[folder, int(t[folder + (batch*batch_size)].strip().split(';')[2])] = 1\n",
    "\n",
    "            yield augment_batch(batch_data, identity), batch_labels #you yield the batch_data and the batch_labels, remember what does yield do\n",
    "            if augment:\n",
    "                #yield augment_batch(batch_data, inc_contrast), batch_labels\n",
    "                #yield augment_batch(batch_data, inc_brightness), batch_labels\n",
    "                yield augment_batch(batch_data, bright_jitter), batch_labels\n",
    "                #yield augment_batch(batch_data, zoom_in), batch_labels\n",
    "                #yield augment_batch(batch_data, zoom_out), batch_labels\n",
    "                yield augment_batch_2(batch_data, [inc_contrast, zoom_in, zoom_out, rotate, rotate_anti, shift_left, shift_right, shift_up, shift_down]), batch_labels\n",
    "                yield augment_batch_2(batch_data, [inc_contrast, zoom_in, zoom_out, rotate, rotate_anti, shift_left, shift_right, shift_up, shift_down]), batch_labels\n",
    "                #yield augment_batch(batch_data, shift_left), batch_labels\n",
    "                #yield augment_batch(batch_data, shift_right), batch_labels\n",
    "                yield augment_batch_2(batch_data, [inc_contrast, zoom_in, zoom_out, rotate, rotate_anti, shift_left, shift_right, shift_up, shift_down]), batch_labels\n",
    "                yield augment_batch_2(batch_data, [inc_contrast, zoom_in, zoom_out, rotate, rotate_anti, shift_left, shift_right, shift_up, shift_down]), batch_labels\n",
    "                #yield augment_batch_2(batch_data, [inc_contrast, zoom_in, zoom_out, rotate, rotate_anti, shift_left, shift_right, shift_up, shift_down]), batch_labels\n",
    "        \n",
    "        # write the code for the remaining data points which are left after full batches\n",
    "        start_idx = num_batches * batch_size\n",
    "        remaining_size = len(folder_list) - start_idx\n",
    "        if remaining_size > 0:\n",
    "            batch_data = np.zeros((remaining_size,x,y,z,3)) # x is the number of images you use for each video, (y,z) is the final size of the input images and 3 is the number of channels RGB\n",
    "            batch_labels = np.zeros((remaining_size,5)) # batch_labels is the one hot representation of the output\n",
    "            for folder in range(start_idx, len(folder_list)): #iterate over the remaining folders\n",
    "                imgs = os.listdir(source_path+'/'+ t[folder].split(';')[0]) # read all the images in the folder\n",
    "                for idx,item in enumerate(img_idx): #  Iterate iver the frames/images of a folder to read them in\n",
    "                    image = io.imread(source_path+'/'+ t[folder].strip().split(';')[0]+'/'+imgs[item])\n",
    "\n",
    "                    if (image.shape == large):\n",
    "                        image = resize(image, (y, z), anti_aliasing=False)\n",
    "                    else:\n",
    "                        image = image[:, 20:140, :]\n",
    "                    \n",
    "                    feed_image(batch_data, folder - start_idx, idx, image)\n",
    "\n",
    "            batch_labels[folder - start_idx, int(t[folder].strip().split(';')[2])] = 1\n",
    "            yield augment_batch(batch_data, identity), batch_labels #you yield the batch_data and the batch_labels, remember what does yield do\n",
    "            if augment: \n",
    "                #yield augment_batch(batch_data, inc_contrast), batch_labels\n",
    "                #yield augment_batch(batch_data, inc_brightness), batch_labels\n",
    "                yield augment_batch(batch_data, bright_jitter), batch_labels\n",
    "                yield augment_batch_2(batch_data, [inc_contrast, zoom_in, zoom_out, rotate, rotate_anti, shift_left, shift_right, shift_up, shift_down]), batch_labels\n",
    "                yield augment_batch_2(batch_data, [inc_contrast, zoom_in, zoom_out, rotate, rotate_anti, shift_left, shift_right, shift_up, shift_down]), batch_labels\n",
    "                yield augment_batch_2(batch_data, [inc_contrast, zoom_in, zoom_out, rotate, rotate_anti, shift_left, shift_right, shift_up, shift_down]), batch_labels\n",
    "                yield augment_batch_2(batch_data, [inc_contrast, zoom_in, zoom_out, rotate, rotate_anti, shift_left, shift_right, shift_up, shift_down]), batch_labels\n",
    "                #yield augment_batch_2(batch_data, [inc_contrast, zoom_in, zoom_out, rotate, rotate_anti, shift_left, shift_right, shift_up, shift_down]), batch_labels\n",
    "                #yield augment_batch(batch_data, shift_left), batch_labels\n",
    "                #yield augment_batch(batch_data, shift_right), batch_labels\n",
    "        \n",
    "    return None, None\n"
   ]
  },
  {
   "cell_type": "code",
   "execution_count": 9,
   "metadata": {},
   "outputs": [],
   "source": [
    "# test generator \n",
    "#i = generator(data_path + \"/train\", train_doc, 32)"
   ]
  },
  {
   "cell_type": "code",
   "execution_count": 10,
   "metadata": {
    "scrolled": false
   },
   "outputs": [],
   "source": [
    "# data, labels = next(i)\n",
    "# print(len(train_doc))\n",
    "# print(len(data))\n",
    "# print(len(labels))"
   ]
  },
  {
   "cell_type": "markdown",
   "metadata": {},
   "source": [
    "Note here that a video is represented above in the generator as (number of images, height, width, number of channels). Take this into consideration while creating the model architecture."
   ]
  },
  {
   "cell_type": "code",
   "execution_count": 11,
   "metadata": {},
   "outputs": [
    {
     "name": "stdout",
     "output_type": "stream",
     "text": [
      "# training sequences = 663\n",
      "# validation sequences = 100\n",
      "# epochs = 30\n"
     ]
    }
   ],
   "source": [
    "curr_dt_time = datetime.datetime.now()\n",
    "input_image_shape = (10, 120, 120, 3)\n",
    "num_train_sequences = len(train_doc)\n",
    "print('# training sequences =', num_train_sequences)\n",
    "num_val_sequences = len(val_doc)\n",
    "print('# validation sequences =', num_val_sequences)\n",
    "num_epochs = 30 # choose the number of epochs\n",
    "print ('# epochs =', num_epochs)\n",
    "num_classes = 5"
   ]
  },
  {
   "cell_type": "markdown",
   "metadata": {},
   "source": [
    "## Model\n",
    "Here you make the model using different functionalities that Keras provides. Remember to use `Conv3D` and `MaxPooling3D` and not `Conv2D` and `Maxpooling2D` for a 3D convolution model. You would want to use `TimeDistributed` while building a Conv2D + RNN model. Also remember that the last layer is the softmax. Design the network in such a way that the model is able to give good accuracy on the least number of parameters so that it can fit in the memory of the webcam."
   ]
  },
  {
   "cell_type": "code",
   "execution_count": 12,
   "metadata": {},
   "outputs": [],
   "source": [
    "def make_Conv3D_model():\n",
    "    #write your model here\n",
    "    model = Sequential()\n",
    "    model.add(GaussianNoise(0.01, input_shape=input_image_shape))\n",
    "    \n",
    "    model.add(Conv3D(32, (3, 3, 3), padding=\"same\", input_shape=input_image_shape))\n",
    "    model.add(Activation('relu'))\n",
    "    model.add(BatchNormalization())\n",
    "    model.add(Conv3D(32, (3, 3, 3)))\n",
    "    model.add(Activation('relu'))\n",
    "    model.add(BatchNormalization())\n",
    "    model.add(MaxPooling3D(pool_size=(2, 2, 2)))\n",
    "    model.add(Dropout(0.25))\n",
    "\n",
    "    model.add(Conv3D(64, (3, 3, 3), padding=\"same\"))\n",
    "    model.add(Activation('relu'))\n",
    "    model.add(BatchNormalization())\n",
    "    model.add(Conv3D(64, (3, 3, 3)))\n",
    "    model.add(Activation('relu'))\n",
    "    model.add(BatchNormalization())\n",
    "    model.add(MaxPooling3D(pool_size=(2, 2, 2)))\n",
    "    model.add(Dropout(0.25))\n",
    "\n",
    "    model.add(Flatten())\n",
    "    model.add(Dense(16, kernel_regularizer=l2(0.01)))\n",
    "    model.add(Activation('relu'))\n",
    "    model.add(Dropout(0.5))\n",
    "    model.add(Dense(num_classes))\n",
    "    model.add(Activation('softmax'))\n",
    "    return model\n",
    "\n",
    "def make_ConvLSTM_model():\n",
    "    lstm_input_shape = (10, 120, 120, 3)\n",
    "    \n",
    "    #write your model here\n",
    "    model = Sequential()\n",
    "    model.add(GaussianNoise(0.01, input_shape=lstm_input_shape))\n",
    "    model.add(ConvLSTM2D(16, (3, 3), padding=\"valid\",\n",
    "                     input_shape=lstm_input_shape, return_sequences=True))\n",
    "    model.add(Activation('relu'))\n",
    "#    model.add(BatchNormalization())\n",
    "#     model.add(ConvLSTM2D(32, (3, 3), return_sequences=True))\n",
    "#     model.add(Activation('relu'))\n",
    "#     model.add(BatchNormalization())\n",
    "#    model.add(MaxPooling3D(pool_size=(2, 2, 2)))\n",
    "#    model.add(Dropout(0.25))\n",
    "\n",
    "#    model.add(ConvLSTM2D(64, (3, 3), padding=\"valid\", return_sequences=True))\n",
    "#    model.add(Activation('relu'))\n",
    "#    model.add(BatchNormalization())\n",
    "#    model.add(ConvLSTM2D(64, (3, 3), return_sequences=True))\n",
    "#    model.add(Activation('relu'))\n",
    "#    model.add(BatchNormalization())\n",
    "    model.add(MaxPooling3D(pool_size=(2, 2, 2)))\n",
    "    model.add(Dropout(0.25))\n",
    "\n",
    "    model.add(Flatten())\n",
    "    model.add(Dense(32, kernel_regularizer=l2(0.01)))\n",
    "    model.add(Activation('relu'))\n",
    "    model.add(Dropout(0.1))\n",
    "    model.add(Dense(num_classes))\n",
    "    model.add(Activation('softmax'))\n",
    "    return model\n",
    "\n",
    "def make_CNN_LSTM_model():\n",
    "    model = Sequential()\n",
    "    model.add(GaussianNoise(0.01, input_shape=input_image_shape))\n",
    "    # define CNN model\n",
    "    model.add(TimeDistributed(Conv2D(24, (3, 3), padding=\"same\", activation='relu'), input_shape=input_image_shape))\n",
    "    model.add(TimeDistributed(BatchNormalization()))\n",
    "    model.add(TimeDistributed(MaxPooling2D(pool_size=(2, 2))))\n",
    "    #model.add(TimeDistributed(Conv2D(24, (3, 3), padding=\"same\", activation='relu')))\n",
    "    #model.add(TimeDistributed(BatchNormalization()))\n",
    "    #model.add(TimeDistributed(MaxPooling2D(pool_size=(2, 2))))\n",
    "#     model.add(TimeDistributed(Dropout(0.5)))\n",
    "#     model.add(TimeDistributed(Conv2D(64, (3, 3), padding=\"same\", activation='relu')))\n",
    "#     model.add(TimeDistributed(BatchNormalization()))\n",
    "#     model.add(TimeDistributed(Conv2D(64, (3, 3), padding=\"same\", activation='relu')))\n",
    "#     model.add(TimeDistributed(BatchNormalization()))\n",
    "#     model.add(TimeDistributed(MaxPooling2D(pool_size=(2, 2))))\n",
    "    model.add(TimeDistributed(Flatten()))\n",
    "    model.add(Dropout(0.2))\n",
    "    # define LSTM model\n",
    "    model.add(LSTM(32, return_sequences=True))\n",
    "#     model.add(TimeDistributed(Dropout(0.5)))\n",
    "#     model.add(LSTM(25, return_sequences=True))\n",
    "#     model.add(TimeDistributed(Dense(32, activation='relu', kernel_regularizer=l2(0.01))))\n",
    "    model.add(TimeDistributed(Dropout(0.2)))\n",
    "    model.add(Flatten())\n",
    "    model.add(Dense(num_classes, activation='softmax'))\n",
    "    return model\n"
   ]
  },
  {
   "cell_type": "code",
   "execution_count": 13,
   "metadata": {},
   "outputs": [],
   "source": [
    "from keras.models import Sequential, Model\n",
    "from keras.layers import Dense, Dropout, GRU, Flatten, TimeDistributed, Flatten, BatchNormalization, Activation, ConvLSTM2D, GaussianNoise, LSTM\n",
    "from keras.layers.convolutional import Conv2D, Conv3D, MaxPooling3D, MaxPooling2D\n",
    "from keras.callbacks import ModelCheckpoint, ReduceLROnPlateau\n",
    "from keras.regularizers import l2\n",
    "from keras import optimizers\n",
    "\n",
    "#write your model here\n",
    "#model = make_Conv3D_model()\n",
    "model = make_ConvLSTM_model()\n",
    "#model = make_CNN_LSTM_model()"
   ]
  },
  {
   "cell_type": "markdown",
   "metadata": {},
   "source": [
    "Now that you have written the model, the next step is to `compile` the model. When you print the `summary` of the model, you'll see the total number of parameters you have to train."
   ]
  },
  {
   "cell_type": "code",
   "execution_count": 14,
   "metadata": {
    "scrolled": true
   },
   "outputs": [
    {
     "name": "stdout",
     "output_type": "stream",
     "text": [
      "_________________________________________________________________\n",
      "Layer (type)                 Output Shape              Param #   \n",
      "=================================================================\n",
      "gaussian_noise_1 (GaussianNo (None, 10, 120, 120, 3)   0         \n",
      "_________________________________________________________________\n",
      "conv_lst_m2d_1 (ConvLSTM2D)  (None, 10, 118, 118, 16)  11008     \n",
      "_________________________________________________________________\n",
      "activation_1 (Activation)    (None, 10, 118, 118, 16)  0         \n",
      "_________________________________________________________________\n",
      "max_pooling3d_1 (MaxPooling3 (None, 5, 59, 59, 16)     0         \n",
      "_________________________________________________________________\n",
      "dropout_1 (Dropout)          (None, 5, 59, 59, 16)     0         \n",
      "_________________________________________________________________\n",
      "flatten_1 (Flatten)          (None, 278480)            0         \n",
      "_________________________________________________________________\n",
      "dense_1 (Dense)              (None, 32)                8911392   \n",
      "_________________________________________________________________\n",
      "activation_2 (Activation)    (None, 32)                0         \n",
      "_________________________________________________________________\n",
      "dropout_2 (Dropout)          (None, 32)                0         \n",
      "_________________________________________________________________\n",
      "dense_2 (Dense)              (None, 5)                 165       \n",
      "_________________________________________________________________\n",
      "activation_3 (Activation)    (None, 5)                 0         \n",
      "=================================================================\n",
      "Total params: 8,922,565\n",
      "Trainable params: 8,922,565\n",
      "Non-trainable params: 0\n",
      "_________________________________________________________________\n",
      "None\n"
     ]
    }
   ],
   "source": [
    "optimiser = optimizers.SGD(lr=0.01, clipnorm=1.) #write your optimizer\n",
    "#optimiser = optimizers.Adam(lr=0.001, beta_1=0.9, beta_2=0.999, epsilon=None, decay=0.0, amsgrad=False)\n",
    "model.compile(optimizer=optimiser, loss='categorical_crossentropy', metrics=['categorical_accuracy'])\n",
    "print (model.summary())"
   ]
  },
  {
   "cell_type": "markdown",
   "metadata": {},
   "source": [
    "Let us create the `train_generator` and the `val_generator` which will be used in `.fit_generator`."
   ]
  },
  {
   "cell_type": "code",
   "execution_count": 15,
   "metadata": {},
   "outputs": [],
   "source": [
    "train_generator = generator(train_path, train_doc, batch_size, True)\n",
    "val_generator = generator(val_path, val_doc, batch_size)"
   ]
  },
  {
   "cell_type": "code",
   "execution_count": 16,
   "metadata": {},
   "outputs": [],
   "source": [
    "model_name = 'model_init' + '_' + str(curr_dt_time).replace(' ','').replace(':','_') + '/'\n",
    "    \n",
    "if not os.path.exists(model_name):\n",
    "    os.mkdir(model_name)\n",
    "        \n",
    "filepath = model_name + 'model-{epoch:05d}-{loss:.5f}-{categorical_accuracy:.5f}-{val_loss:.5f}-{val_categorical_accuracy:.5f}.h5'\n",
    "\n",
    "checkpoint = ModelCheckpoint(filepath, monitor='val_loss', verbose=1, save_best_only=False, save_weights_only=False, mode='auto', period=1)\n",
    "\n",
    "LR = ReduceLROnPlateau(monitor='val_loss', factor=0.2,\n",
    "                              patience=3, min_lr=0.001) # write the REducelronplateau code here\n",
    "callbacks_list = [checkpoint, LR]"
   ]
  },
  {
   "cell_type": "markdown",
   "metadata": {},
   "source": [
    "The `steps_per_epoch` and `validation_steps` are used by `fit_generator` to decide the number of next() calls it need to make."
   ]
  },
  {
   "cell_type": "code",
   "execution_count": 17,
   "metadata": {},
   "outputs": [],
   "source": [
    "if (num_train_sequences%batch_size) == 0:\n",
    "    steps_per_epoch = int(num_train_sequences/batch_size)\n",
    "else:\n",
    "    steps_per_epoch = (num_train_sequences//batch_size) + 1\n",
    "\n",
    "steps_per_epoch = steps_per_epoch * 6 #Because we are augmenting each image \n",
    "\n",
    "if (num_val_sequences%batch_size) == 0:\n",
    "    validation_steps = int(num_val_sequences/batch_size)\n",
    "else:\n",
    "    validation_steps = (num_val_sequences//batch_size) + 1"
   ]
  },
  {
   "cell_type": "markdown",
   "metadata": {},
   "source": [
    "Let us now fit the model. This will start training the model and with the help of the checkpoints, you'll be able to save the model at the end of each epoch."
   ]
  },
  {
   "cell_type": "code",
   "execution_count": 18,
   "metadata": {
    "scrolled": false
   },
   "outputs": [
    {
     "name": "stdout",
     "output_type": "stream",
     "text": [
      "Epoch 1/30\n"
     ]
    },
    {
     "name": "stderr",
     "output_type": "stream",
     "text": [
      "/mnt/disks/user/anaconda3/lib/python3.6/site-packages/skimage/transform/_warps.py:105: UserWarning: The default mode, 'constant', will be changed to 'reflect' in skimage 0.15.\n",
      "  warn(\"The default mode, 'constant', will be changed to 'reflect' in \"\n"
     ]
    },
    {
     "name": "stdout",
     "output_type": "stream",
     "text": [
      "798/798 [==============================] - 177s 222ms/step - loss: 2.1917 - categorical_accuracy: 0.2619 - val_loss: 2.2108 - val_categorical_accuracy: 0.2300\n",
      "\n",
      "Epoch 00001: saving model to model_init_2019-06-2212_39_29.796640/model-00001-2.19470-0.26269-2.21085-0.23000.h5\n",
      "Epoch 2/30\n",
      "798/798 [==============================] - 174s 218ms/step - loss: 2.0963 - categorical_accuracy: 0.3031 - val_loss: 3.4875 - val_categorical_accuracy: 0.2100\n",
      "\n",
      "Epoch 00003: saving model to model_init_2019-06-2212_39_29.796640/model-00003-2.09963-0.30317-3.48754-0.21000.h5\n",
      "Epoch 4/30\n",
      "798/798 [==============================] - 174s 218ms/step - loss: 2.0514 - categorical_accuracy: 0.3338 - val_loss: 2.0217 - val_categorical_accuracy: 0.3400\n",
      "\n",
      "Epoch 00004: saving model to model_init_2019-06-2212_39_29.796640/model-00004-2.05437-0.33459-2.02168-0.34000.h5\n",
      "Epoch 5/30\n",
      "798/798 [==============================] - 175s 219ms/step - loss: 2.0087 - categorical_accuracy: 0.3555 - val_loss: 2.3145 - val_categorical_accuracy: 0.3500\n",
      "\n",
      "Epoch 00005: saving model to model_init_2019-06-2212_39_29.796640/model-00005-2.01202-0.35520-2.31448-0.35000.h5\n",
      "Epoch 6/30\n",
      "798/798 [==============================] - 174s 218ms/step - loss: 1.9654 - categorical_accuracy: 0.3611 - val_loss: 2.1225 - val_categorical_accuracy: 0.2900\n",
      "\n",
      "Epoch 00006: saving model to model_init_2019-06-2212_39_29.796640/model-00006-1.96846-0.36199-2.12247-0.29000.h5\n",
      "Epoch 7/30\n",
      "798/798 [==============================] - 174s 218ms/step - loss: 1.9022 - categorical_accuracy: 0.4004 - val_loss: 1.9055 - val_categorical_accuracy: 0.3700\n",
      "\n",
      "Epoch 00007: saving model to model_init_2019-06-2212_39_29.796640/model-00007-1.90452-0.40146-1.90551-0.37000.h5\n",
      "Epoch 8/30\n",
      "798/798 [==============================] - 174s 218ms/step - loss: 1.8806 - categorical_accuracy: 0.4259 - val_loss: 1.9755 - val_categorical_accuracy: 0.3500\n",
      "\n",
      "Epoch 00008: saving model to model_init_2019-06-2212_39_29.796640/model-00008-1.88329-0.42634-1.97555-0.35000.h5\n",
      "Epoch 9/30\n",
      "798/798 [==============================] - 175s 219ms/step - loss: 1.8302 - categorical_accuracy: 0.4522 - val_loss: 2.3863 - val_categorical_accuracy: 0.4000\n",
      "\n",
      "Epoch 00009: saving model to model_init_2019-06-2212_39_29.796640/model-00009-1.83353-0.45274-2.38635-0.40000.h5\n",
      "Epoch 10/30\n",
      "798/798 [==============================] - 174s 218ms/step - loss: 1.7871 - categorical_accuracy: 0.4661 - val_loss: 2.0587 - val_categorical_accuracy: 0.4000\n",
      "\n",
      "Epoch 00010: saving model to model_init_2019-06-2212_39_29.796640/model-00010-1.78977-0.46682-2.05868-0.40000.h5\n",
      "Epoch 11/30\n",
      "798/798 [==============================] - 174s 218ms/step - loss: 1.7438 - categorical_accuracy: 0.4831 - val_loss: 1.6262 - val_categorical_accuracy: 0.5300\n",
      "\n",
      "Epoch 00011: saving model to model_init_2019-06-2212_39_29.796640/model-00011-1.74637-0.48391-1.62622-0.53000.h5\n",
      "Epoch 12/30\n",
      "798/798 [==============================] - 174s 218ms/step - loss: 1.7584 - categorical_accuracy: 0.4926 - val_loss: 1.6084 - val_categorical_accuracy: 0.5400\n",
      "\n",
      "Epoch 00012: saving model to model_init_2019-06-2212_39_29.796640/model-00012-1.76084-0.49271-1.60843-0.54000.h5\n",
      "Epoch 13/30\n",
      "798/798 [==============================] - 174s 218ms/step - loss: 1.7195 - categorical_accuracy: 0.4995 - val_loss: 1.6194 - val_categorical_accuracy: 0.5200\n",
      "\n",
      "Epoch 00013: saving model to model_init_2019-06-2212_39_29.796640/model-00013-1.72231-0.50000-1.61939-0.52000.h5\n",
      "Epoch 14/30\n",
      "798/798 [==============================] - 174s 218ms/step - loss: 1.7308 - categorical_accuracy: 0.4951 - val_loss: 1.6062 - val_categorical_accuracy: 0.5300\n",
      "\n",
      "Epoch 00014: saving model to model_init_2019-06-2212_39_29.796640/model-00014-1.73371-0.49573-1.60615-0.53000.h5\n",
      "Epoch 15/30\n",
      "798/798 [==============================] - 174s 218ms/step - loss: 1.7182 - categorical_accuracy: 0.5053 - val_loss: 1.5611 - val_categorical_accuracy: 0.5700\n",
      "\n",
      "Epoch 00015: saving model to model_init_2019-06-2212_39_29.796640/model-00015-1.72033-0.50528-1.56108-0.57000.h5\n",
      "Epoch 16/30\n",
      "798/798 [==============================] - 173s 217ms/step - loss: 1.6735 - categorical_accuracy: 0.5261 - val_loss: 1.5565 - val_categorical_accuracy: 0.5800\n",
      "\n",
      "Epoch 00016: saving model to model_init_2019-06-2212_39_29.796640/model-00016-1.67492-0.52715-1.55646-0.58000.h5\n",
      "Epoch 17/30\n",
      "798/798 [==============================] - 173s 217ms/step - loss: 1.6912 - categorical_accuracy: 0.5135 - val_loss: 1.4900 - val_categorical_accuracy: 0.6000\n",
      "\n",
      "Epoch 00017: saving model to model_init_2019-06-2212_39_29.796640/model-00017-1.69430-0.51408-1.49001-0.60000.h5\n",
      "Epoch 18/30\n",
      "798/798 [==============================] - 174s 217ms/step - loss: 1.6749 - categorical_accuracy: 0.5244 - val_loss: 1.5084 - val_categorical_accuracy: 0.5500\n",
      "\n",
      "Epoch 00018: saving model to model_init_2019-06-2212_39_29.796640/model-00018-1.67713-0.52514-1.50836-0.55000.h5\n",
      "Epoch 19/30\n",
      "798/798 [==============================] - 174s 218ms/step - loss: 1.6606 - categorical_accuracy: 0.5288 - val_loss: 1.4803 - val_categorical_accuracy: 0.6200\n",
      "\n",
      "Epoch 00019: saving model to model_init_2019-06-2212_39_29.796640/model-00019-1.66280-0.52991-1.48034-0.62000.h5\n",
      "Epoch 20/30\n",
      "798/798 [==============================] - 173s 217ms/step - loss: 1.6522 - categorical_accuracy: 0.5298 - val_loss: 1.5029 - val_categorical_accuracy: 0.5900\n",
      "\n",
      "Epoch 00020: saving model to model_init_2019-06-2212_39_29.796640/model-00020-1.65431-0.53092-1.50288-0.59000.h5\n",
      "Epoch 21/30\n",
      "798/798 [==============================] - 174s 217ms/step - loss: 1.6458 - categorical_accuracy: 0.5435 - val_loss: 1.5871 - val_categorical_accuracy: 0.5700\n",
      "\n",
      "Epoch 00021: saving model to model_init_2019-06-2212_39_29.796640/model-00021-1.64823-0.54449-1.58714-0.57000.h5\n",
      "Epoch 22/30\n",
      "798/798 [==============================] - 174s 218ms/step - loss: 1.6294 - categorical_accuracy: 0.5466 - val_loss: 1.5302 - val_categorical_accuracy: 0.6000\n",
      "\n",
      "Epoch 00022: saving model to model_init_2019-06-2212_39_29.796640/model-00022-1.63151-0.54776-1.53023-0.60000.h5\n",
      "Epoch 23/30\n",
      "798/798 [==============================] - 173s 217ms/step - loss: 1.6259 - categorical_accuracy: 0.5430 - val_loss: 1.4301 - val_categorical_accuracy: 0.6600\n",
      "\n",
      "Epoch 00023: saving model to model_init_2019-06-2212_39_29.796640/model-00023-1.62852-0.54349-1.43006-0.66000.h5\n",
      "Epoch 24/30\n",
      "798/798 [==============================] - 173s 217ms/step - loss: 1.6348 - categorical_accuracy: 0.5467 - val_loss: 1.4517 - val_categorical_accuracy: 0.6600\n",
      "\n",
      "Epoch 00024: saving model to model_init_2019-06-2212_39_29.796640/model-00024-1.63750-0.54751-1.45174-0.66000.h5\n",
      "Epoch 25/30\n",
      "798/798 [==============================] - 173s 217ms/step - loss: 1.6054 - categorical_accuracy: 0.5560 - val_loss: 1.4487 - val_categorical_accuracy: 0.6000\n",
      "\n",
      "Epoch 00025: saving model to model_init_2019-06-2212_39_29.796640/model-00025-1.60754-0.55681-1.44866-0.60000.h5\n",
      "Epoch 26/30\n",
      "798/798 [==============================] - 174s 217ms/step - loss: 1.6316 - categorical_accuracy: 0.5413 - val_loss: 1.5152 - val_categorical_accuracy: 0.6300\n",
      "\n",
      "Epoch 00026: saving model to model_init_2019-06-2212_39_29.796640/model-00026-1.63403-0.54223-1.51516-0.63000.h5\n",
      "Epoch 27/30\n",
      "798/798 [==============================] - 173s 217ms/step - loss: 1.6165 - categorical_accuracy: 0.5530 - val_loss: 1.4207 - val_categorical_accuracy: 0.6600\n",
      "\n",
      "Epoch 00027: saving model to model_init_2019-06-2212_39_29.796640/model-00027-1.61850-0.55354-1.42070-0.66000.h5\n",
      "Epoch 28/30\n",
      "798/798 [==============================] - 173s 217ms/step - loss: 1.6288 - categorical_accuracy: 0.5574 - val_loss: 1.4071 - val_categorical_accuracy: 0.6400\n",
      "\n",
      "Epoch 00028: saving model to model_init_2019-06-2212_39_29.796640/model-00028-1.63113-0.55757-1.40710-0.64000.h5\n",
      "Epoch 29/30\n",
      "798/798 [==============================] - 173s 217ms/step - loss: 1.6157 - categorical_accuracy: 0.5554 - val_loss: 1.4327 - val_categorical_accuracy: 0.6200\n",
      "\n",
      "Epoch 00029: saving model to model_init_2019-06-2212_39_29.796640/model-00029-1.61854-0.55606-1.43266-0.62000.h5\n",
      "Epoch 30/30\n",
      "798/798 [==============================] - 173s 217ms/step - loss: 1.6246 - categorical_accuracy: 0.5407 - val_loss: 1.4214 - val_categorical_accuracy: 0.6300\n",
      "\n",
      "Epoch 00030: saving model to model_init_2019-06-2212_39_29.796640/model-00030-1.62681-0.54148-1.42137-0.63000.h5\n"
     ]
    },
    {
     "data": {
      "text/plain": [
       "<keras.callbacks.History at 0x7fa45b25c668>"
      ]
     },
     "execution_count": 18,
     "metadata": {},
     "output_type": "execute_result"
    }
   ],
   "source": [
    "model.fit_generator(train_generator, steps_per_epoch=steps_per_epoch, epochs=num_epochs, verbose=1, \n",
    "                    callbacks=callbacks_list, validation_data=val_generator, \n",
    "                    validation_steps=validation_steps, class_weight=None, workers=1, initial_epoch=0)"
   ]
  },
  {
   "cell_type": "code",
   "execution_count": null,
   "metadata": {},
   "outputs": [],
   "source": []
  },
  {
   "cell_type": "code",
   "execution_count": null,
   "metadata": {},
   "outputs": [],
   "source": []
  }
 ],
 "metadata": {
  "kernelspec": {
   "display_name": "Python 3",
   "language": "python",
   "name": "python3"
  },
  "language_info": {
   "codemirror_mode": {
    "name": "ipython",
    "version": 3
   },
   "file_extension": ".py",
   "mimetype": "text/x-python",
   "name": "python",
   "nbconvert_exporter": "python",
   "pygments_lexer": "ipython3",
   "version": "3.6.8"
  }
 },
 "nbformat": 4,
 "nbformat_minor": 2
}
