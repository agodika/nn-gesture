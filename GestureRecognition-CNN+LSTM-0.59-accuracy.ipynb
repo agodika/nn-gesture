{
 "cells": [
  {
   "cell_type": "markdown",
   "metadata": {},
   "source": [
    "# Gesture Recognition\n",
    "In this group project, you are going to build a 3D Conv model that will be able to predict the 5 gestures correctly. Please import the following libraries to get started."
   ]
  },
  {
   "cell_type": "code",
   "execution_count": 1,
   "metadata": {},
   "outputs": [],
   "source": [
    "import numpy as np\n",
    "import os\n",
    "#from scipy.misc import imread, imresize\n",
    "import datetime\n",
    "import os\n",
    "#import matplotlib.pyplot as plt\n",
    "from skimage import io\n",
    "from skimage.transform import rescale, resize, downscale_local_mean"
   ]
  },
  {
   "cell_type": "code",
   "execution_count": 2,
   "metadata": {},
   "outputs": [],
   "source": [
    "import matplotlib.pyplot as plt"
   ]
  },
  {
   "cell_type": "markdown",
   "metadata": {},
   "source": [
    "We set the random seed so that the results don't vary drastically."
   ]
  },
  {
   "cell_type": "code",
   "execution_count": 3,
   "metadata": {},
   "outputs": [
    {
     "name": "stderr",
     "output_type": "stream",
     "text": [
      "Using TensorFlow backend.\n"
     ]
    }
   ],
   "source": [
    "np.random.seed(30)\n",
    "import random as rn\n",
    "rn.seed(30)\n",
    "from keras import backend as K\n",
    "import tensorflow as tf\n",
    "tf.set_random_seed(30)"
   ]
  },
  {
   "cell_type": "markdown",
   "metadata": {},
   "source": [
    "In this block, you read the folder names for training and validation. You also set the `batch_size` here. Note that you set the batch size in such a way that you are able to use the GPU in full capacity. You keep increasing the batch size until the machine throws an error."
   ]
  },
  {
   "cell_type": "code",
   "execution_count": 4,
   "metadata": {},
   "outputs": [],
   "source": [
    "data_path = './Project_data'\n",
    "train_path = f'{data_path}/train'\n",
    "val_path = f'{data_path}/val'\n"
   ]
  },
  {
   "cell_type": "code",
   "execution_count": 5,
   "metadata": {},
   "outputs": [],
   "source": [
    "train_doc = np.random.permutation(open(f'{data_path}/train.csv').readlines())\n",
    "val_doc = np.random.permutation(open(f'{data_path}/val.csv').readlines())\n",
    "batch_size = 5 #experiment with the batch size"
   ]
  },
  {
   "cell_type": "code",
   "execution_count": 6,
   "metadata": {},
   "outputs": [
    {
     "data": {
      "text/plain": [
       "array(['WIN_20180926_16_54_08_Pro_Right_Swipe_new;Right_Swipe_new;1\\n',\n",
       "       'WIN_20180925_18_02_58_Pro_Thumbs_Down_new;Thumbs_Down_new;3\\n',\n",
       "       'WIN_20180925_17_33_08_Pro_Left_Swipe_new;Left_Swipe_new;0\\n',\n",
       "       'WIN_20180925_17_51_17_Pro_Thumbs_Up_new;Thumbs_Up_new;4\\n',\n",
       "       'WIN_20180926_17_17_35_Pro_Left_Swipe_new;Left_Swipe_new;0\\n',\n",
       "       'WIN_20180926_17_30_47_Pro_Thumbs_Up_new;Thumbs_Up_new;4\\n',\n",
       "       'WIN_20180926_17_29_23_Pro_Stop_new;Stop_new;2\\n',\n",
       "       'WIN_20180926_17_12_26_Pro_Thumbs_Up_new;Thumbs_Up_new;4\\n',\n",
       "       'WIN_20180926_17_29_01_Pro_Stop_new;Stop_new;2\\n',\n",
       "       'WIN_20180907_16_32_11_Pro_Stop Gesture_new;Stop Gesture_new;2\\n'],\n",
       "      dtype='<U88')"
      ]
     },
     "execution_count": 6,
     "metadata": {},
     "output_type": "execute_result"
    }
   ],
   "source": [
    "train_doc[0:10]"
   ]
  },
  {
   "cell_type": "code",
   "execution_count": 7,
   "metadata": {},
   "outputs": [
    {
     "data": {
      "text/plain": [
       "132"
      ]
     },
     "execution_count": 7,
     "metadata": {},
     "output_type": "execute_result"
    }
   ],
   "source": [
    "len(train_doc) // batch_size"
   ]
  },
  {
   "cell_type": "markdown",
   "metadata": {},
   "source": [
    "## Generator\n",
    "This is one of the most important part of the code. The overall structure of the generator has been given. In the generator, you are going to preprocess the images as you have images of 2 different dimensions as well as create a batch of video frames. You have to experiment with `img_idx`, `y`,`z` and normalization such that you get high accuracy."
   ]
  },
  {
   "cell_type": "code",
   "execution_count": 8,
   "metadata": {},
   "outputs": [],
   "source": [
    "from skimage import transform as tf\n",
    "from skimage.util import random_noise\n",
    "from skimage import exposure\n",
    "from skimage.transform import rotate as rot\n",
    "\n",
    "def normalize(image):\n",
    "#     return image/255\n",
    "#    return image - np.percentile(image,5)/ np.percentile(image,95) - np.percentile(image,5)\n",
    "     return image - np.min(image)/np.max(image) - np.min(image)\n",
    "\n",
    "def flip_lr(image):\n",
    "    return np.fliplr(image)\n",
    "\n",
    "def inc_contrast(image):\n",
    "    v_min, v_max = np.percentile(image, (0.2, 99.8))\n",
    "    return exposure.rescale_intensity(image, in_range=(v_min, v_max))\n",
    "\n",
    "def inc_brightness(image):\n",
    "    return exposure.adjust_gamma(image, gamma=0.4, gain=0.9)\n",
    "\n",
    "def bright_jitter(image):\n",
    "    return image*0.999 + np.zeros_like(image)*0.001\n",
    "\n",
    "def noise(image):\n",
    "    return random_noise(image)\n",
    "\n",
    "def rotate(image):\n",
    "    return rot(image, rn.choice(range(5,20)))\n",
    "\n",
    "def rotate_anti(image):\n",
    "    return rot(image, rn.choice(range(-20,-5)))\n",
    "\n",
    "def shift_left(image):\n",
    "    #M = np.float32([[1, 0, -25], [0, 1, 0]])\n",
    "    # translation\n",
    "    #(rows, cols) = image.shape[:2] \n",
    "    #return cv2.warpAffine(image, M, (cols, rows))\n",
    "    transaltion_transforms = tf.AffineTransform(translation=(rn.choice(range(15,40)), 0))\n",
    "    return tf.warp(image, transaltion_transforms)\n",
    "\n",
    "def shift_right(image):\n",
    "    transaltion_transforms = tf.AffineTransform(translation=(rn.choice(range(-40,-15)), 0))\n",
    "    return tf.warp(image, transaltion_transforms)\n",
    "\n",
    "def shift_up(image):\n",
    "    transaltion_transforms = tf.AffineTransform(translation=(0, rn.choice(range(-40,-15))))\n",
    "    return tf.warp(image, transaltion_transforms)\n",
    "\n",
    "def shift_down(image):\n",
    "    transaltion_transforms = tf.AffineTransform(translation=(0, rn.choice(range(15, 40))))\n",
    "    return tf.warp(image, transaltion_transforms)\n",
    "\n",
    "def zoom_in(image):\n",
    "    # specify x and y coordinates to be used for shifting (mid points)\n",
    "    shift_x, shift_y = image.shape[0]/2, image.shape[1]/2\n",
    "\n",
    "    # translation by certain units\n",
    "    matrix_to_topleft = tf.SimilarityTransform(translation=[-shift_x, -shift_y])\n",
    "    matrix_to_center = tf.SimilarityTransform(translation=[shift_x, shift_y])\n",
    "\n",
    "    zoom = rn.choice(range(60,90,5))/100\n",
    "    scale_transforms = tf.AffineTransform(scale=(zoom, zoom))\n",
    "    scale_matrix = matrix_to_topleft + scale_transforms + matrix_to_center\n",
    "    scale_image_zoom_in = tf.warp(image, scale_matrix)\n",
    "    return scale_image_zoom_in\n",
    "\n",
    "def zoom_out(image):\n",
    "    # specify x and y coordinates to be used for shifting (mid points)\n",
    "    shift_x, shift_y = image.shape[0]/2, image.shape[1]/2\n",
    "\n",
    "    # translation by certain units\n",
    "    matrix_to_topleft = tf.SimilarityTransform(translation=[-shift_x, -shift_y])\n",
    "    matrix_to_center = tf.SimilarityTransform(translation=[shift_x, shift_y])\n",
    "\n",
    "    # scaling \n",
    "    zoom = rn.choice(range(130,160,5))/100\n",
    "    scale_transforms = tf.AffineTransform(scale=(zoom, zoom))\n",
    "    scale_matrix = matrix_to_topleft + scale_transforms + matrix_to_center\n",
    "    scale_image_zoom_out = tf.warp(image, scale_matrix)\n",
    "\n",
    "    return scale_image_zoom_out\n",
    "\n",
    "\n",
    "def feed_image(batch_data, folder, idx, image):\n",
    "    batch_data[folder,idx,:,:,0] = image[:, :, 0] #normalise and feed in the image\n",
    "    batch_data[folder,idx,:,:,1] = image[:, :, 1] #normalise and feed in the image\n",
    "    batch_data[folder,idx,:,:,2] = image[:, :, 2] #normalise and feed in the image\n",
    "\n",
    "def augment_batch(batch_data, fn):\n",
    "    new_batch = np.zeros(batch_data.shape)\n",
    "    (folders, indices,_,_,_) = batch_data.shape\n",
    "    for folder in range(folders):\n",
    "        for idx in range(indices):\n",
    "            for channel in range(3):\n",
    "                new_batch[folder,idx,:,:,channel] = normalize(fn(batch_data[folder,idx,:,:,channel]))\n",
    "    return new_batch\n",
    "\n",
    "def augment_batch_2(batch_data, fns):\n",
    "    new_batch = np.zeros(batch_data.shape)\n",
    "    funcs = rn.sample(fns, rn.choice([1, 2, 3]))\n",
    "    (folders, indices,_,_,_) = batch_data.shape\n",
    "    for folder in range(folders):\n",
    "        for idx in range(indices):\n",
    "            for channel in range(3):\n",
    "                image = batch_data[folder,idx,:,:,channel] \n",
    "                for fn in funcs:\n",
    "                    image = fn(image)\n",
    "                new_batch[folder,idx,:,:,channel] = normalize(image)\n",
    "    return new_batch\n",
    "\n",
    "\n",
    "def generator(source_path, folder_list, batch_size, augment=False):\n",
    "    #print( 'Source path = ', source_path, '; batch size =', batch_size)\n",
    "    img_idx = list(range(0, 30, 3)) #create a list of image numbers you want to use for a particular video\n",
    "    x = len(img_idx) # number of images for each video\n",
    "    y = 120          # height of each input image\n",
    "    z = 120          # width of each input image\n",
    "    large=(360, 360, 3)\n",
    "    small=(120, 160, 3)\n",
    "    while True:\n",
    "        t = np.random.permutation(folder_list)\n",
    "        num_batches = len(folder_list) // batch_size # calculate the number of batches\n",
    "        for batch in range(num_batches): # we iterate over the number of batches\n",
    "            batch_data = np.zeros((batch_size,x,y,z,3)) # x is the number of images you use for each video, (y,z) is the final size of the input images and 3 is the number of channels RGB\n",
    "            batch_labels = np.zeros((batch_size,5)) # batch_labels is the one hot representation of the output\n",
    "            for folder in range(batch_size): # iterate over the batch_size\n",
    "                imgs = os.listdir(source_path+'/'+ t[folder + (batch*batch_size)].split(';')[0]) # read all the images in the folder\n",
    "                for idx,item in enumerate(img_idx): #  Iterate iver the frames/images of a folder to read them in\n",
    "                    #print(\"Reading \", source_path+'/'+ t[folder + (batch*batch_size)].strip().split(';')[0]+'/'+imgs[item])\n",
    "                    image = io.imread(source_path+'/'+ t[folder + (batch*batch_size)].strip().split(';')[0]+'/'+imgs[item])\n",
    "\n",
    "                    #crop the images and resize them. Note that the images are of 2 different shape \n",
    "                    #and the conv3D will throw error if the inputs in a batch have different shapes\n",
    "                    if (image.shape == large):\n",
    "                        image = resize(image, (y, z), anti_aliasing=False)\n",
    "                    else:\n",
    "                        image = image[:, 20:140, :]\n",
    "                    \n",
    "                    feed_image(batch_data, folder, idx, image)\n",
    "                    \n",
    "                batch_labels[folder, int(t[folder + (batch*batch_size)].strip().split(';')[2])] = 1\n",
    "\n",
    "            yield augment_batch(batch_data, normalize), batch_labels #you yield the batch_data and the batch_labels, remember what does yield do\n",
    "            if augment:\n",
    "                #yield augment_batch(batch_data, inc_contrast), batch_labels\n",
    "                #yield augment_batch(batch_data, inc_brightness), batch_labels\n",
    "                yield augment_batch(batch_data, bright_jitter), batch_labels\n",
    "                #yield augment_batch(batch_data, zoom_in), batch_labels\n",
    "                #yield augment_batch(batch_data, zoom_out), batch_labels\n",
    "                yield augment_batch_2(batch_data, [inc_contrast, zoom_in, zoom_out, rotate, rotate_anti, shift_left, shift_right, shift_up, shift_down]), batch_labels\n",
    "                yield augment_batch_2(batch_data, [inc_contrast, zoom_in, zoom_out, rotate, rotate_anti, shift_left, shift_right, shift_up, shift_down]), batch_labels\n",
    "                #yield augment_batch(batch_data, shift_left), batch_labels\n",
    "                #yield augment_batch(batch_data, shift_right), batch_labels\n",
    "                yield augment_batch_2(batch_data, [inc_contrast, zoom_in, zoom_out, rotate, rotate_anti, shift_left, shift_right, shift_up, shift_down]), batch_labels\n",
    "                yield augment_batch_2(batch_data, [inc_contrast, zoom_in, zoom_out, rotate, rotate_anti, shift_left, shift_right, shift_up, shift_down]), batch_labels\n",
    "        \n",
    "        # write the code for the remaining data points which are left after full batches\n",
    "        start_idx = num_batches * batch_size\n",
    "        remaining_size = len(folder_list) - start_idx\n",
    "        if remaining_size > 0:\n",
    "            batch_data = np.zeros((remaining_size,x,y,z,3)) # x is the number of images you use for each video, (y,z) is the final size of the input images and 3 is the number of channels RGB\n",
    "            batch_labels = np.zeros((remaining_size,5)) # batch_labels is the one hot representation of the output\n",
    "            for folder in range(start_idx, len(folder_list)): #iterate over the remaining folders\n",
    "                imgs = os.listdir(source_path+'/'+ t[folder].split(';')[0]) # read all the images in the folder\n",
    "                for idx,item in enumerate(img_idx): #  Iterate iver the frames/images of a folder to read them in\n",
    "                    image = io.imread(source_path+'/'+ t[folder].strip().split(';')[0]+'/'+imgs[item])\n",
    "\n",
    "                    if (image.shape == large):\n",
    "                        image = resize(image, (y, z), anti_aliasing=False)\n",
    "                    else:\n",
    "                        image = image[:, 20:140, :]\n",
    "                    \n",
    "                    feed_image(batch_data, folder - start_idx, idx, image)\n",
    "\n",
    "            batch_labels[folder - start_idx, int(t[folder].strip().split(';')[2])] = 1\n",
    "            yield augment_batch(batch_data, normalize), batch_labels #you yield the batch_data and the batch_labels, remember what does yield do\n",
    "            if augment: \n",
    "                #yield augment_batch(batch_data, inc_contrast), batch_labels\n",
    "                #yield augment_batch(batch_data, inc_brightness), batch_labels\n",
    "                yield augment_batch(batch_data, bright_jitter), batch_labels\n",
    "                yield augment_batch_2(batch_data, [inc_contrast, zoom_in, zoom_out, rotate, rotate_anti, shift_left, shift_right, shift_up, shift_down]), batch_labels\n",
    "                yield augment_batch_2(batch_data, [inc_contrast, zoom_in, zoom_out, rotate, rotate_anti, shift_left, shift_right, shift_up, shift_down]), batch_labels\n",
    "                yield augment_batch_2(batch_data, [inc_contrast, zoom_in, zoom_out, rotate, rotate_anti, shift_left, shift_right, shift_up, shift_down]), batch_labels\n",
    "                yield augment_batch_2(batch_data, [inc_contrast, zoom_in, zoom_out, rotate, rotate_anti, shift_left, shift_right, shift_up, shift_down]), batch_labels\n",
    "                #yield augment_batch(batch_data, shift_left), batch_labels\n",
    "                #yield augment_batch(batch_data, shift_right), batch_labels\n",
    "        \n",
    "    return None, None\n"
   ]
  },
  {
   "cell_type": "code",
   "execution_count": 9,
   "metadata": {},
   "outputs": [],
   "source": [
    "# test generator \n",
    "#i = generator(data_path + \"/train\", train_doc, 32)"
   ]
  },
  {
   "cell_type": "code",
   "execution_count": 10,
   "metadata": {
    "scrolled": false
   },
   "outputs": [],
   "source": [
    "# data, labels = next(i)\n",
    "# print(len(train_doc))\n",
    "# print(len(data))\n",
    "# print(len(labels))"
   ]
  },
  {
   "cell_type": "markdown",
   "metadata": {},
   "source": [
    "Note here that a video is represented above in the generator as (number of images, height, width, number of channels). Take this into consideration while creating the model architecture."
   ]
  },
  {
   "cell_type": "code",
   "execution_count": 11,
   "metadata": {},
   "outputs": [
    {
     "name": "stdout",
     "output_type": "stream",
     "text": [
      "# training sequences = 663\n",
      "# validation sequences = 100\n",
      "# epochs = 20\n"
     ]
    }
   ],
   "source": [
    "curr_dt_time = datetime.datetime.now()\n",
    "input_image_shape = (10, 120, 120, 3)\n",
    "num_train_sequences = len(train_doc)\n",
    "print('# training sequences =', num_train_sequences)\n",
    "num_val_sequences = len(val_doc)\n",
    "print('# validation sequences =', num_val_sequences)\n",
    "num_epochs = 20 # choose the number of epochs\n",
    "print ('# epochs =', num_epochs)\n",
    "num_classes = 5"
   ]
  },
  {
   "cell_type": "markdown",
   "metadata": {},
   "source": [
    "## Model\n",
    "Here you make the model using different functionalities that Keras provides. Remember to use `Conv3D` and `MaxPooling3D` and not `Conv2D` and `Maxpooling2D` for a 3D convolution model. You would want to use `TimeDistributed` while building a Conv2D + RNN model. Also remember that the last layer is the softmax. Design the network in such a way that the model is able to give good accuracy on the least number of parameters so that it can fit in the memory of the webcam."
   ]
  },
  {
   "cell_type": "code",
   "execution_count": 12,
   "metadata": {},
   "outputs": [],
   "source": [
    "def make_Conv3D_model():\n",
    "    #write your model here\n",
    "    model = Sequential()\n",
    "    model.add(GaussianNoise(0.01, input_shape=input_image_shape))\n",
    "    \n",
    "    model.add(Conv3D(32, (3, 3, 3), padding=\"same\", input_shape=input_image_shape))\n",
    "    model.add(Activation('relu'))\n",
    "    model.add(BatchNormalization())\n",
    "    model.add(Conv3D(32, (3, 3, 3)))\n",
    "    model.add(Activation('relu'))\n",
    "    model.add(BatchNormalization())\n",
    "    model.add(MaxPooling3D(pool_size=(2, 2, 2)))\n",
    "    model.add(Dropout(0.25))\n",
    "\n",
    "    model.add(Conv3D(64, (3, 3, 3), padding=\"same\"))\n",
    "    model.add(Activation('relu'))\n",
    "    model.add(BatchNormalization())\n",
    "    model.add(Conv3D(64, (3, 3, 3)))\n",
    "    model.add(Activation('relu'))\n",
    "    model.add(BatchNormalization())\n",
    "    model.add(MaxPooling3D(pool_size=(2, 2, 2)))\n",
    "    model.add(Dropout(0.25))\n",
    "\n",
    "    model.add(Flatten())\n",
    "    model.add(Dense(16, kernel_regularizer=l2(0.01)))\n",
    "    model.add(Activation('relu'))\n",
    "    model.add(Dropout(0.5))\n",
    "    model.add(Dense(num_classes))\n",
    "    model.add(Activation('softmax'))\n",
    "    return model\n",
    "\n",
    "def make_ConvLSTM_model():\n",
    "    lstm_input_shape = (10, 120, 120, 3)\n",
    "    \n",
    "    #write your model here\n",
    "    model = Sequential()\n",
    "    model.add(GaussianNoise(0.01, input_shape=lstm_input_shape))\n",
    "    model.add(ConvLSTM2D(16, (3, 3), padding=\"valid\",\n",
    "                     input_shape=lstm_input_shape, return_sequences=True))\n",
    "    model.add(Activation('relu'))\n",
    "#    model.add(BatchNormalization())\n",
    "#     model.add(ConvLSTM2D(32, (3, 3), return_sequences=True))\n",
    "#     model.add(Activation('relu'))\n",
    "#     model.add(BatchNormalization())\n",
    "#    model.add(MaxPooling3D(pool_size=(2, 2, 2)))\n",
    "#    model.add(Dropout(0.25))\n",
    "\n",
    "#    model.add(ConvLSTM2D(64, (3, 3), padding=\"valid\", return_sequences=True))\n",
    "#    model.add(Activation('relu'))\n",
    "#    model.add(BatchNormalization())\n",
    "#    model.add(ConvLSTM2D(64, (3, 3), return_sequences=True))\n",
    "#    model.add(Activation('relu'))\n",
    "#    model.add(BatchNormalization())\n",
    "    model.add(MaxPooling3D(pool_size=(2, 2, 2)))\n",
    "    model.add(Dropout(0.25))\n",
    "\n",
    "    model.add(Flatten())\n",
    "    model.add(Dense(32, kernel_regularizer=l2(0.01)))\n",
    "    model.add(Activation('relu'))\n",
    "    model.add(Dropout(0.1))\n",
    "    model.add(Dense(num_classes))\n",
    "    model.add(Activation('softmax'))\n",
    "    return model\n",
    "\n",
    "def make_CNN_LSTM_model():\n",
    "    model = Sequential()\n",
    "    model.add(GaussianNoise(0.01, input_shape=input_image_shape))\n",
    "    # define CNN model\n",
    "    model.add(TimeDistributed(Conv2D(16, (3, 3), padding=\"same\", activation='relu'), input_shape=input_image_shape))\n",
    "    model.add(TimeDistributed(BatchNormalization()))\n",
    "    model.add(TimeDistributed(MaxPooling2D(pool_size=(2, 2))))\n",
    "#     model.add(TimeDistributed(Conv2D(32, (3, 3), padding=\"same\", activation='relu')))\n",
    "#     model.add(TimeDistributed(BatchNormalization()))\n",
    "#     model.add(TimeDistributed(MaxPooling2D(pool_size=(2, 2))))\n",
    "#     model.add(TimeDistributed(Dropout(0.5)))\n",
    "#     model.add(TimeDistributed(Conv2D(64, (3, 3), padding=\"same\", activation='relu')))\n",
    "#     model.add(TimeDistributed(BatchNormalization()))\n",
    "#     model.add(TimeDistributed(Conv2D(64, (3, 3), padding=\"same\", activation='relu')))\n",
    "#     model.add(TimeDistributed(BatchNormalization()))\n",
    "#     model.add(TimeDistributed(MaxPooling2D(pool_size=(2, 2))))\n",
    "    model.add(TimeDistributed(Flatten()))\n",
    "    model.add(Dropout(0.2))\n",
    "    # define LSTM model\n",
    "    model.add(LSTM(32, return_sequences=True))\n",
    "#     model.add(TimeDistributed(Dropout(0.5)))\n",
    "#     model.add(LSTM(25, return_sequences=True))\n",
    "#     model.add(TimeDistributed(Dense(32, activation='relu', kernel_regularizer=l2(0.01))))\n",
    "    model.add(TimeDistributed(Dropout(0.2)))\n",
    "    model.add(Flatten())\n",
    "    model.add(Dense(num_classes, activation='softmax'))\n",
    "    return model\n"
   ]
  },
  {
   "cell_type": "code",
   "execution_count": 13,
   "metadata": {},
   "outputs": [],
   "source": [
    "from keras.models import Sequential, Model\n",
    "from keras.layers import Dense, Dropout, GRU, Flatten, TimeDistributed, Flatten, BatchNormalization, Activation, ConvLSTM2D, GaussianNoise, LSTM\n",
    "from keras.layers.convolutional import Conv2D, Conv3D, MaxPooling3D, MaxPooling2D\n",
    "from keras.callbacks import ModelCheckpoint, ReduceLROnPlateau\n",
    "from keras.regularizers import l2\n",
    "from keras import optimizers\n",
    "\n",
    "#write your model here\n",
    "#model = make_Conv3D_model()\n",
    "#model = make_ConvLSTM_model()\n",
    "model = make_CNN_LSTM_model()"
   ]
  },
  {
   "cell_type": "markdown",
   "metadata": {},
   "source": [
    "Now that you have written the model, the next step is to `compile` the model. When you print the `summary` of the model, you'll see the total number of parameters you have to train."
   ]
  },
  {
   "cell_type": "code",
   "execution_count": 14,
   "metadata": {
    "scrolled": true
   },
   "outputs": [
    {
     "name": "stdout",
     "output_type": "stream",
     "text": [
      "_________________________________________________________________\n",
      "Layer (type)                 Output Shape              Param #   \n",
      "=================================================================\n",
      "gaussian_noise_1 (GaussianNo (None, 10, 120, 120, 3)   0         \n",
      "_________________________________________________________________\n",
      "time_distributed_1 (TimeDist (None, 10, 120, 120, 16)  448       \n",
      "_________________________________________________________________\n",
      "time_distributed_2 (TimeDist (None, 10, 120, 120, 16)  64        \n",
      "_________________________________________________________________\n",
      "time_distributed_3 (TimeDist (None, 10, 60, 60, 16)    0         \n",
      "_________________________________________________________________\n",
      "time_distributed_4 (TimeDist (None, 10, 57600)         0         \n",
      "_________________________________________________________________\n",
      "dropout_1 (Dropout)          (None, 10, 57600)         0         \n",
      "_________________________________________________________________\n",
      "lstm_1 (LSTM)                (None, 10, 32)            7377024   \n",
      "_________________________________________________________________\n",
      "time_distributed_5 (TimeDist (None, 10, 32)            0         \n",
      "_________________________________________________________________\n",
      "flatten_2 (Flatten)          (None, 320)               0         \n",
      "_________________________________________________________________\n",
      "dense_1 (Dense)              (None, 5)                 1605      \n",
      "=================================================================\n",
      "Total params: 7,379,141\n",
      "Trainable params: 7,379,109\n",
      "Non-trainable params: 32\n",
      "_________________________________________________________________\n",
      "None\n"
     ]
    }
   ],
   "source": [
    "optimiser = optimizers.SGD(lr=0.01, clipnorm=1.) #write your optimizer\n",
    "#optimiser = optimizers.Adam(lr=0.001, beta_1=0.9, beta_2=0.999, epsilon=None, decay=0.0, amsgrad=False)\n",
    "model.compile(optimizer=optimiser, loss='categorical_crossentropy', metrics=['categorical_accuracy'])\n",
    "print (model.summary())"
   ]
  },
  {
   "cell_type": "markdown",
   "metadata": {},
   "source": [
    "Let us create the `train_generator` and the `val_generator` which will be used in `.fit_generator`."
   ]
  },
  {
   "cell_type": "code",
   "execution_count": 15,
   "metadata": {},
   "outputs": [],
   "source": [
    "train_generator = generator(train_path, train_doc, batch_size, True)\n",
    "val_generator = generator(val_path, val_doc, batch_size)"
   ]
  },
  {
   "cell_type": "code",
   "execution_count": 16,
   "metadata": {},
   "outputs": [],
   "source": [
    "model_name = 'model_init' + '_' + str(curr_dt_time).replace(' ','').replace(':','_') + '/'\n",
    "    \n",
    "if not os.path.exists(model_name):\n",
    "    os.mkdir(model_name)\n",
    "        \n",
    "filepath = model_name + 'model-{epoch:05d}-{loss:.5f}-{categorical_accuracy:.5f}-{val_loss:.5f}-{val_categorical_accuracy:.5f}.h5'\n",
    "\n",
    "checkpoint = ModelCheckpoint(filepath, monitor='val_loss', verbose=1, save_best_only=False, save_weights_only=False, mode='auto', period=1)\n",
    "\n",
    "LR = ReduceLROnPlateau(monitor='val_loss', factor=0.2,\n",
    "                              patience=3, min_lr=0.001) # write the REducelronplateau code here\n",
    "callbacks_list = [checkpoint, LR]"
   ]
  },
  {
   "cell_type": "markdown",
   "metadata": {},
   "source": [
    "The `steps_per_epoch` and `validation_steps` are used by `fit_generator` to decide the number of next() calls it need to make."
   ]
  },
  {
   "cell_type": "code",
   "execution_count": 17,
   "metadata": {},
   "outputs": [],
   "source": [
    "if (num_train_sequences%batch_size) == 0:\n",
    "    steps_per_epoch = int(num_train_sequences/batch_size)\n",
    "else:\n",
    "    steps_per_epoch = (num_train_sequences//batch_size) + 1\n",
    "\n",
    "steps_per_epoch = steps_per_epoch * 6 #Because we are augmenting each image \n",
    "\n",
    "if (num_val_sequences%batch_size) == 0:\n",
    "    validation_steps = int(num_val_sequences/batch_size)\n",
    "else:\n",
    "    validation_steps = (num_val_sequences//batch_size) + 1"
   ]
  },
  {
   "cell_type": "markdown",
   "metadata": {},
   "source": [
    "Let us now fit the model. This will start training the model and with the help of the checkpoints, you'll be able to save the model at the end of each epoch."
   ]
  },
  {
   "cell_type": "code",
   "execution_count": 18,
   "metadata": {},
   "outputs": [
    {
     "name": "stdout",
     "output_type": "stream",
     "text": [
      "Epoch 1/20\n"
     ]
    },
    {
     "name": "stderr",
     "output_type": "stream",
     "text": [
      "/mnt/disks/user/anaconda3/lib/python3.6/site-packages/skimage/transform/_warps.py:105: UserWarning: The default mode, 'constant', will be changed to 'reflect' in skimage 0.15.\n",
      "  warn(\"The default mode, 'constant', will be changed to 'reflect' in \"\n"
     ]
    },
    {
     "name": "stdout",
     "output_type": "stream",
     "text": [
      "798/798 [==============================] - 151s 190ms/step - loss: 1.5683 - categorical_accuracy: 0.2919 - val_loss: 1.4746 - val_categorical_accuracy: 0.3400\n",
      "\n",
      "Epoch 00001: saving model to model_init_2019-06-2120_48_49.361593/model-00001-1.57145-0.29211-1.47463-0.34000.h5\n",
      "Epoch 2/20\n",
      "798/798 [==============================] - 144s 180ms/step - loss: 1.4672 - categorical_accuracy: 0.3556 - val_loss: 1.4406 - val_categorical_accuracy: 0.3700\n",
      "\n",
      "Epoch 00002: saving model to model_init_2019-06-2120_48_49.361593/model-00002-1.47079-0.35546-1.44055-0.37000.h5\n",
      "Epoch 3/20\n",
      "798/798 [==============================] - 147s 185ms/step - loss: 1.3661 - categorical_accuracy: 0.4184 - val_loss: 1.4954 - val_categorical_accuracy: 0.3200\n",
      "\n",
      "Epoch 00003: saving model to model_init_2019-06-2120_48_49.361593/model-00003-1.36923-0.41880-1.49537-0.32000.h5\n",
      "Epoch 4/20\n",
      "798/798 [==============================] - 146s 183ms/step - loss: 1.2923 - categorical_accuracy: 0.4450 - val_loss: 1.3930 - val_categorical_accuracy: 0.3400\n",
      "\n",
      "Epoch 00004: saving model to model_init_2019-06-2120_48_49.361593/model-00004-1.29510-0.44520-1.39299-0.34000.h5\n",
      "Epoch 5/20\n",
      "798/798 [==============================] - 148s 186ms/step - loss: 1.2402 - categorical_accuracy: 0.4677 - val_loss: 1.1781 - val_categorical_accuracy: 0.4900\n",
      "\n",
      "Epoch 00005: saving model to model_init_2019-06-2120_48_49.361593/model-00005-1.24200-0.46858-1.17808-0.49000.h5\n",
      "Epoch 6/20\n",
      "798/798 [==============================] - 148s 185ms/step - loss: 1.2114 - categorical_accuracy: 0.4797 - val_loss: 1.2903 - val_categorical_accuracy: 0.4000\n",
      "\n",
      "Epoch 00006: saving model to model_init_2019-06-2120_48_49.361593/model-00006-1.21402-0.47964-1.29032-0.40000.h5\n",
      "Epoch 7/20\n",
      "798/798 [==============================] - 147s 184ms/step - loss: 1.1571 - categorical_accuracy: 0.5118 - val_loss: 1.2704 - val_categorical_accuracy: 0.4400\n",
      "\n",
      "Epoch 00007: saving model to model_init_2019-06-2120_48_49.361593/model-00007-1.15933-0.51232-1.27041-0.44000.h5\n",
      "Epoch 8/20\n",
      "798/798 [==============================] - 148s 186ms/step - loss: 1.1312 - categorical_accuracy: 0.5307 - val_loss: 1.1572 - val_categorical_accuracy: 0.5000\n",
      "\n",
      "Epoch 00008: saving model to model_init_2019-06-2120_48_49.361593/model-00008-1.13355-0.53167-1.15723-0.50000.h5\n",
      "Epoch 9/20\n",
      "798/798 [==============================] - 148s 185ms/step - loss: 1.0959 - categorical_accuracy: 0.5345 - val_loss: 1.1433 - val_categorical_accuracy: 0.5300\n",
      "\n",
      "Epoch 00009: saving model to model_init_2019-06-2120_48_49.361593/model-00009-1.09856-0.53494-1.14330-0.53000.h5\n",
      "Epoch 10/20\n",
      "798/798 [==============================] - 149s 186ms/step - loss: 1.1084 - categorical_accuracy: 0.5265 - val_loss: 1.1536 - val_categorical_accuracy: 0.4700\n",
      "\n",
      "Epoch 00010: saving model to model_init_2019-06-2120_48_49.361593/model-00010-1.11042-0.52690-1.15361-0.47000.h5\n",
      "Epoch 11/20\n",
      "798/798 [==============================] - 146s 183ms/step - loss: 1.0527 - categorical_accuracy: 0.5581 - val_loss: 1.2365 - val_categorical_accuracy: 0.4900\n",
      "\n",
      "Epoch 00011: saving model to model_init_2019-06-2120_48_49.361593/model-00011-1.05528-0.55857-1.23646-0.49000.h5\n",
      "Epoch 12/20\n",
      "798/798 [==============================] - 146s 183ms/step - loss: 1.0680 - categorical_accuracy: 0.5553 - val_loss: 1.0692 - val_categorical_accuracy: 0.5100\n",
      "\n",
      "Epoch 00012: saving model to model_init_2019-06-2120_48_49.361593/model-00012-1.07025-0.55631-1.06921-0.51000.h5\n",
      "Epoch 13/20\n",
      "798/798 [==============================] - 146s 183ms/step - loss: 1.0509 - categorical_accuracy: 0.5515 - val_loss: 1.2377 - val_categorical_accuracy: 0.4700\n",
      "\n",
      "Epoch 00013: saving model to model_init_2019-06-2120_48_49.361593/model-00013-1.05322-0.55229-1.23767-0.47000.h5\n",
      "Epoch 14/20\n",
      "798/798 [==============================] - 145s 182ms/step - loss: 1.0571 - categorical_accuracy: 0.5558 - val_loss: 1.2356 - val_categorical_accuracy: 0.4700\n",
      "\n",
      "Epoch 00014: saving model to model_init_2019-06-2120_48_49.361593/model-00014-1.05904-0.55681-1.23556-0.47000.h5\n",
      "Epoch 15/20\n",
      "798/798 [==============================] - 149s 187ms/step - loss: 1.0242 - categorical_accuracy: 0.5662 - val_loss: 1.1954 - val_categorical_accuracy: 0.4900\n",
      "\n",
      "Epoch 00015: saving model to model_init_2019-06-2120_48_49.361593/model-00015-1.02582-0.56737-1.19543-0.49000.h5\n",
      "Epoch 16/20\n",
      "798/798 [==============================] - 147s 184ms/step - loss: 1.0410 - categorical_accuracy: 0.5596 - val_loss: 1.0365 - val_categorical_accuracy: 0.5400\n",
      "\n",
      "Epoch 00016: saving model to model_init_2019-06-2120_48_49.361593/model-00016-1.04380-0.55983-1.03648-0.54000.h5\n",
      "Epoch 17/20\n",
      "798/798 [==============================] - 146s 183ms/step - loss: 1.0198 - categorical_accuracy: 0.5534 - val_loss: 1.0435 - val_categorical_accuracy: 0.5200\n",
      "\n",
      "Epoch 00017: saving model to model_init_2019-06-2120_48_49.361593/model-00017-1.02243-0.55405-1.04354-0.52000.h5\n",
      "Epoch 18/20\n",
      "798/798 [==============================] - 146s 182ms/step - loss: 1.0296 - categorical_accuracy: 0.5609 - val_loss: 1.0361 - val_categorical_accuracy: 0.5600\n",
      "\n",
      "Epoch 00018: saving model to model_init_2019-06-2120_48_49.361593/model-00018-1.03183-0.56209-1.03613-0.56000.h5\n",
      "Epoch 19/20\n",
      "798/798 [==============================] - 149s 187ms/step - loss: 1.0136 - categorical_accuracy: 0.5678 - val_loss: 1.0609 - val_categorical_accuracy: 0.5500\n",
      "\n",
      "Epoch 00019: saving model to model_init_2019-06-2120_48_49.361593/model-00019-1.01597-0.56838-1.06091-0.55000.h5\n",
      "Epoch 20/20\n",
      "798/798 [==============================] - 146s 182ms/step - loss: 0.9982 - categorical_accuracy: 0.5694 - val_loss: 1.0263 - val_categorical_accuracy: 0.5900\n",
      "\n",
      "Epoch 00020: saving model to model_init_2019-06-2120_48_49.361593/model-00020-1.00024-0.56963-1.02628-0.59000.h5\n"
     ]
    },
    {
     "data": {
      "text/plain": [
       "<keras.callbacks.History at 0x7fa8681cf320>"
      ]
     },
     "execution_count": 18,
     "metadata": {},
     "output_type": "execute_result"
    }
   ],
   "source": [
    "model.fit_generator(train_generator, steps_per_epoch=steps_per_epoch, epochs=num_epochs, verbose=1, \n",
    "                    callbacks=callbacks_list, validation_data=val_generator, \n",
    "                    validation_steps=validation_steps, class_weight=None, workers=1, initial_epoch=0)"
   ]
  },
  {
   "cell_type": "code",
   "execution_count": null,
   "metadata": {},
   "outputs": [],
   "source": []
  },
  {
   "cell_type": "code",
   "execution_count": null,
   "metadata": {},
   "outputs": [],
   "source": []
  }
 ],
 "metadata": {
  "kernelspec": {
   "display_name": "Python 3",
   "language": "python",
   "name": "python3"
  },
  "language_info": {
   "codemirror_mode": {
    "name": "ipython",
    "version": 3
   },
   "file_extension": ".py",
   "mimetype": "text/x-python",
   "name": "python",
   "nbconvert_exporter": "python",
   "pygments_lexer": "ipython3",
   "version": "3.6.8"
  }
 },
 "nbformat": 4,
 "nbformat_minor": 2
}
