{
 "cells": [
  {
   "cell_type": "markdown",
   "metadata": {},
   "source": [
    "# Gesture Recognition\n",
    "In this group project, you are going to build a 3D Conv model that will be able to predict the 5 gestures correctly. Please import the following libraries to get started."
   ]
  },
  {
   "cell_type": "code",
   "execution_count": 1,
   "metadata": {},
   "outputs": [],
   "source": [
    "import numpy as np\n",
    "import os\n",
    "#from scipy.misc import imread, imresize\n",
    "import datetime\n",
    "import os\n",
    "#import matplotlib.pyplot as plt\n",
    "from skimage import io\n",
    "from skimage.transform import rescale, resize, downscale_local_mean"
   ]
  },
  {
   "cell_type": "code",
   "execution_count": 2,
   "metadata": {},
   "outputs": [],
   "source": [
    "import matplotlib.pyplot as plt"
   ]
  },
  {
   "cell_type": "markdown",
   "metadata": {},
   "source": [
    "We set the random seed so that the results don't vary drastically."
   ]
  },
  {
   "cell_type": "code",
   "execution_count": 3,
   "metadata": {},
   "outputs": [
    {
     "name": "stderr",
     "output_type": "stream",
     "text": [
      "Using TensorFlow backend.\n"
     ]
    }
   ],
   "source": [
    "np.random.seed(30)\n",
    "import random as rn\n",
    "rn.seed(30)\n",
    "from keras import backend as K\n",
    "import tensorflow as tf\n",
    "tf.set_random_seed(30)"
   ]
  },
  {
   "cell_type": "markdown",
   "metadata": {},
   "source": [
    "In this block, you read the folder names for training and validation. You also set the `batch_size` here. Note that you set the batch size in such a way that you are able to use the GPU in full capacity. You keep increasing the batch size until the machine throws an error."
   ]
  },
  {
   "cell_type": "code",
   "execution_count": 4,
   "metadata": {},
   "outputs": [],
   "source": [
    "data_path = './Project_data'\n",
    "train_path = f'{data_path}/train'\n",
    "val_path = f'{data_path}/val'\n"
   ]
  },
  {
   "cell_type": "code",
   "execution_count": 5,
   "metadata": {},
   "outputs": [],
   "source": [
    "train_doc = np.random.permutation(open(f'{data_path}/train.csv').readlines())\n",
    "val_doc = np.random.permutation(open(f'{data_path}/val.csv').readlines())\n",
    "batch_size = 16 #experiment with the batch size"
   ]
  },
  {
   "cell_type": "code",
   "execution_count": 6,
   "metadata": {},
   "outputs": [
    {
     "data": {
      "text/plain": [
       "array(['WIN_20180926_16_54_08_Pro_Right_Swipe_new;Right_Swipe_new;1\\n',\n",
       "       'WIN_20180925_18_02_58_Pro_Thumbs_Down_new;Thumbs_Down_new;3\\n',\n",
       "       'WIN_20180925_17_33_08_Pro_Left_Swipe_new;Left_Swipe_new;0\\n',\n",
       "       'WIN_20180925_17_51_17_Pro_Thumbs_Up_new;Thumbs_Up_new;4\\n',\n",
       "       'WIN_20180926_17_17_35_Pro_Left_Swipe_new;Left_Swipe_new;0\\n',\n",
       "       'WIN_20180926_17_30_47_Pro_Thumbs_Up_new;Thumbs_Up_new;4\\n',\n",
       "       'WIN_20180926_17_29_23_Pro_Stop_new;Stop_new;2\\n',\n",
       "       'WIN_20180926_17_12_26_Pro_Thumbs_Up_new;Thumbs_Up_new;4\\n',\n",
       "       'WIN_20180926_17_29_01_Pro_Stop_new;Stop_new;2\\n',\n",
       "       'WIN_20180907_16_32_11_Pro_Stop Gesture_new;Stop Gesture_new;2\\n'],\n",
       "      dtype='<U88')"
      ]
     },
     "execution_count": 6,
     "metadata": {},
     "output_type": "execute_result"
    }
   ],
   "source": [
    "train_doc[0:10]"
   ]
  },
  {
   "cell_type": "code",
   "execution_count": 7,
   "metadata": {},
   "outputs": [
    {
     "data": {
      "text/plain": [
       "41"
      ]
     },
     "execution_count": 7,
     "metadata": {},
     "output_type": "execute_result"
    }
   ],
   "source": [
    "len(train_doc) // batch_size"
   ]
  },
  {
   "cell_type": "markdown",
   "metadata": {},
   "source": [
    "## Generator\n",
    "This is one of the most important part of the code. The overall structure of the generator has been given. In the generator, you are going to preprocess the images as you have images of 2 different dimensions as well as create a batch of video frames. You have to experiment with `img_idx`, `y`,`z` and normalization such that you get high accuracy."
   ]
  },
  {
   "cell_type": "code",
   "execution_count": 8,
   "metadata": {},
   "outputs": [],
   "source": [
    "def plot_images(images, captions=None, cmap=None ):\n",
    "    n = len(images)\n",
    "    rows = n // 4\n",
    "    f, axes = plt.subplots(1, 4, sharey=True)\n",
    "    f.set_figwidth(15)\n",
    "    for ax,image in zip(axes, images):\n",
    "        ax.imshow(image, cmap)"
   ]
  },
  {
   "cell_type": "code",
   "execution_count": 9,
   "metadata": {},
   "outputs": [],
   "source": [
    "def generator(source_path, folder_list, batch_size):\n",
    "    #print( 'Source path = ', source_path, '; batch size =', batch_size)\n",
    "    img_idx = list(range(0, 30)) #create a list of image numbers you want to use for a particular video\n",
    "    x = len(img_idx) # number of images for each video\n",
    "    y = 120          # height of each input image\n",
    "    z = 120          # width of each input image\n",
    "    large=(360, 360, 3)\n",
    "    small=(120, 160, 3)\n",
    "    while True:\n",
    "        t = np.random.permutation(folder_list)\n",
    "        num_batches = len(folder_list) // batch_size # calculate the number of batches\n",
    "        for batch in range(num_batches): # we iterate over the number of batches\n",
    "            batch_data = np.zeros((batch_size,x,y,z,3)) # x is the number of images you use for each video, (y,z) is the final size of the input images and 3 is the number of channels RGB\n",
    "            batch_labels = np.zeros((batch_size,5)) # batch_labels is the one hot representation of the output\n",
    "            for folder in range(batch_size): # iterate over the batch_size\n",
    "                imgs = os.listdir(source_path+'/'+ t[folder + (batch*batch_size)].split(';')[0]) # read all the images in the folder\n",
    "                for idx,item in enumerate(img_idx): #  Iterate iver the frames/images of a folder to read them in\n",
    "                    #print(\"Reading \", source_path+'/'+ t[folder + (batch*batch_size)].strip().split(';')[0]+'/'+imgs[item])\n",
    "                    image = io.imread(source_path+'/'+ t[folder + (batch*batch_size)].strip().split(';')[0]+'/'+imgs[item])\n",
    "                    #print(\"image shape is \", image.shape)\n",
    "                    #plt.imshow(image)\n",
    "                    #yield\n",
    "                    #crop the images and resize them. Note that the images are of 2 different shape \n",
    "                    #and the conv3D will throw error if the inputs in a batch have different shapes\n",
    "                    if (image.shape == large):\n",
    "                        image = resize(image, (y, z), anti_aliasing=False)\n",
    "                    else:\n",
    "                        image = image[:, 20:140, :]\n",
    "                    \n",
    "                    #print(\"new image shape is \", image.shape)\n",
    "                    #plt.imshow(image)\n",
    "                    #yield\n",
    "                    \n",
    "                    #normalize \n",
    "                    image = image/255\n",
    "                    \n",
    "                    batch_data[folder,idx,:,:,0] = image[:, :, 0] #normalise and feed in the image\n",
    "                    batch_data[folder,idx,:,:,1] = image[:, :, 1] #normalise and feed in the image\n",
    "                    batch_data[folder,idx,:,:,2] = image[:, :, 2] #normalise and feed in the image\n",
    "                    \n",
    "                batch_labels[folder, int(t[folder + (batch*batch_size)].strip().split(';')[2])] = 1\n",
    "\n",
    "            yield batch_data, batch_labels #you yield the batch_data and the batch_labels, remember what does yield do\n",
    "        \n",
    "        # write the code for the remaining data points which are left after full batches\n",
    "        start_idx = num_batches * batch_size\n",
    "        remaining_size = len(folder_list) - start_idx\n",
    "        if remaining_size > 0:\n",
    "            batch_data = np.zeros((remaining_size,x,y,z,3)) # x is the number of images you use for each video, (y,z) is the final size of the input images and 3 is the number of channels RGB\n",
    "            batch_labels = np.zeros((remaining_size,5)) # batch_labels is the one hot representation of the output\n",
    "            for folder in range(start_idx, len(folder_list)): #iterate over the remaining folders\n",
    "                imgs = os.listdir(source_path+'/'+ t[folder].split(';')[0]) # read all the images in the folder\n",
    "                for idx,item in enumerate(img_idx): #  Iterate iver the frames/images of a folder to read them in\n",
    "                    #print(\"Reading \", source_path+'/'+ t[folder + (batch*batch_size)].strip().split(';')[0]+'/'+imgs[item])\n",
    "                    image = io.imread(source_path+'/'+ t[folder].strip().split(';')[0]+'/'+imgs[item])\n",
    "                    #print(\"image shape is \", image.shape)\n",
    "                    #plt.imshow(image)\n",
    "                    #yield\n",
    "                    #crop the images and resize them. Note that the images are of 2 different shape \n",
    "                    #and the conv3D will throw error if the inputs in a batch have different shapes\n",
    "                    if (image.shape == large):\n",
    "                        image = resize(image, (y, z), anti_aliasing=False)\n",
    "                    else:\n",
    "                        image = image[:, 20:140, :]\n",
    "\n",
    "                    #print(\"new image shape is \", image.shape)\n",
    "                    #plt.imshow(image)\n",
    "                    #yield\n",
    "                    \n",
    "                    #normalize\n",
    "                    image = image/255\n",
    "\n",
    "                    batch_data[folder - start_idx,idx,:,:,0] = image[:, :, 0] #normalise and feed in the image\n",
    "                    batch_data[folder - start_idx,idx,:,:,1] = image[:, :, 1] #normalise and feed in the image\n",
    "                    batch_data[folder - start_idx,idx,:,:,2] = image[:, :, 2] #normalise and feed in the image\n",
    "\n",
    "            batch_labels[folder - start_idx, int(t[folder].strip().split(';')[2])] = 1\n",
    "            yield batch_data, batch_labels #you yield the batch_data and the batch_labels, remember what does yield do\n",
    "        \n",
    "    return None, None\n"
   ]
  },
  {
   "cell_type": "code",
   "execution_count": 10,
   "metadata": {},
   "outputs": [],
   "source": [
    "# test generator \n",
    "#i = generator(data_path + \"/train\", train_doc, 32)"
   ]
  },
  {
   "cell_type": "code",
   "execution_count": 11,
   "metadata": {
    "scrolled": false
   },
   "outputs": [],
   "source": [
    "# data, labels = next(i)\n",
    "# print(len(train_doc))\n",
    "# print(len(data))\n",
    "# print(len(labels))"
   ]
  },
  {
   "cell_type": "markdown",
   "metadata": {},
   "source": [
    "Note here that a video is represented above in the generator as (number of images, height, width, number of channels). Take this into consideration while creating the model architecture."
   ]
  },
  {
   "cell_type": "code",
   "execution_count": 12,
   "metadata": {},
   "outputs": [
    {
     "name": "stdout",
     "output_type": "stream",
     "text": [
      "# training sequences = 663\n",
      "# validation sequences = 100\n",
      "# epochs = 10\n"
     ]
    }
   ],
   "source": [
    "curr_dt_time = datetime.datetime.now()\n",
    "input_image_shape = (30, 120, 120, 3)\n",
    "num_train_sequences = len(train_doc)\n",
    "print('# training sequences =', num_train_sequences)\n",
    "num_val_sequences = len(val_doc)\n",
    "print('# validation sequences =', num_val_sequences)\n",
    "num_epochs = 10 # choose the number of epochs\n",
    "print ('# epochs =', num_epochs)\n",
    "num_classes = 5"
   ]
  },
  {
   "cell_type": "markdown",
   "metadata": {},
   "source": [
    "## Model\n",
    "Here you make the model using different functionalities that Keras provides. Remember to use `Conv3D` and `MaxPooling3D` and not `Conv2D` and `Maxpooling2D` for a 3D convolution model. You would want to use `TimeDistributed` while building a Conv2D + RNN model. Also remember that the last layer is the softmax. Design the network in such a way that the model is able to give good accuracy on the least number of parameters so that it can fit in the memory of the webcam."
   ]
  },
  {
   "cell_type": "code",
   "execution_count": 13,
   "metadata": {},
   "outputs": [],
   "source": [
    "from keras.models import Sequential, Model\n",
    "from keras.layers import Dense, Dropout, GRU, Flatten, TimeDistributed, Flatten, BatchNormalization, Activation\n",
    "from keras.layers.convolutional import Conv3D, MaxPooling3D\n",
    "from keras.callbacks import ModelCheckpoint, ReduceLROnPlateau\n",
    "from keras.regularizers import l2\n",
    "from keras import optimizers\n",
    "\n",
    "#write your model here\n",
    "model = Sequential()\n",
    "model.add(Conv3D(32, (3, 3, 3), padding=\"same\",\n",
    "                 input_shape=input_image_shape))\n",
    "model.add(Activation('relu'))\n",
    "model.add(BatchNormalization())\n",
    "model.add(Conv3D(32, (3, 3, 3)))\n",
    "model.add(Activation('relu'))\n",
    "model.add(BatchNormalization())\n",
    "model.add(MaxPooling3D(pool_size=(2, 2, 2)))\n",
    "#model.add(Dropout(0.25))\n",
    "\n",
    "model.add(Conv3D(64, (3, 3, 3), padding=\"same\"))\n",
    "model.add(Activation('relu'))\n",
    "model.add(BatchNormalization())\n",
    "model.add(Conv3D(64, (3, 3, 3)))\n",
    "model.add(Activation('relu'))\n",
    "model.add(BatchNormalization())\n",
    "model.add(MaxPooling3D(pool_size=(2, 2, 2)))\n",
    "#model.add(Dropout(0.25))\n",
    "\n",
    "model.add(Flatten())\n",
    "model.add(Dense(32, kernel_regularizer=l2(0.01)))\n",
    "model.add(Activation('relu'))\n",
    "#model.add(Dropout(0.5))\n",
    "model.add(Dense(num_classes))\n",
    "model.add(Activation('softmax'))"
   ]
  },
  {
   "cell_type": "markdown",
   "metadata": {},
   "source": [
    "Now that you have written the model, the next step is to `compile` the model. When you print the `summary` of the model, you'll see the total number of parameters you have to train."
   ]
  },
  {
   "cell_type": "code",
   "execution_count": 14,
   "metadata": {
    "scrolled": true
   },
   "outputs": [
    {
     "name": "stdout",
     "output_type": "stream",
     "text": [
      "_________________________________________________________________\n",
      "Layer (type)                 Output Shape              Param #   \n",
      "=================================================================\n",
      "conv3d_1 (Conv3D)            (None, 30, 120, 120, 32)  2624      \n",
      "_________________________________________________________________\n",
      "activation_1 (Activation)    (None, 30, 120, 120, 32)  0         \n",
      "_________________________________________________________________\n",
      "batch_normalization_1 (Batch (None, 30, 120, 120, 32)  128       \n",
      "_________________________________________________________________\n",
      "conv3d_2 (Conv3D)            (None, 28, 118, 118, 32)  27680     \n",
      "_________________________________________________________________\n",
      "activation_2 (Activation)    (None, 28, 118, 118, 32)  0         \n",
      "_________________________________________________________________\n",
      "batch_normalization_2 (Batch (None, 28, 118, 118, 32)  128       \n",
      "_________________________________________________________________\n",
      "max_pooling3d_1 (MaxPooling3 (None, 14, 59, 59, 32)    0         \n",
      "_________________________________________________________________\n",
      "conv3d_3 (Conv3D)            (None, 14, 59, 59, 64)    55360     \n",
      "_________________________________________________________________\n",
      "activation_3 (Activation)    (None, 14, 59, 59, 64)    0         \n",
      "_________________________________________________________________\n",
      "batch_normalization_3 (Batch (None, 14, 59, 59, 64)    256       \n",
      "_________________________________________________________________\n",
      "conv3d_4 (Conv3D)            (None, 12, 57, 57, 64)    110656    \n",
      "_________________________________________________________________\n",
      "activation_4 (Activation)    (None, 12, 57, 57, 64)    0         \n",
      "_________________________________________________________________\n",
      "batch_normalization_4 (Batch (None, 12, 57, 57, 64)    256       \n",
      "_________________________________________________________________\n",
      "max_pooling3d_2 (MaxPooling3 (None, 6, 28, 28, 64)     0         \n",
      "_________________________________________________________________\n",
      "flatten_1 (Flatten)          (None, 301056)            0         \n",
      "_________________________________________________________________\n",
      "dense_1 (Dense)              (None, 32)                9633824   \n",
      "_________________________________________________________________\n",
      "activation_5 (Activation)    (None, 32)                0         \n",
      "_________________________________________________________________\n",
      "dense_2 (Dense)              (None, 5)                 165       \n",
      "_________________________________________________________________\n",
      "activation_6 (Activation)    (None, 5)                 0         \n",
      "=================================================================\n",
      "Total params: 9,831,077\n",
      "Trainable params: 9,830,693\n",
      "Non-trainable params: 384\n",
      "_________________________________________________________________\n",
      "None\n"
     ]
    }
   ],
   "source": [
    "optimiser = optimizers.SGD(lr=0.01, clipnorm=1.) #write your optimizer\n",
    "model.compile(optimizer=optimiser, loss='categorical_crossentropy', metrics=['categorical_accuracy'])\n",
    "print (model.summary())"
   ]
  },
  {
   "cell_type": "markdown",
   "metadata": {},
   "source": [
    "Let us create the `train_generator` and the `val_generator` which will be used in `.fit_generator`."
   ]
  },
  {
   "cell_type": "code",
   "execution_count": 15,
   "metadata": {},
   "outputs": [],
   "source": [
    "train_generator = generator(train_path, train_doc, batch_size)\n",
    "val_generator = generator(val_path, val_doc, batch_size)"
   ]
  },
  {
   "cell_type": "code",
   "execution_count": 16,
   "metadata": {},
   "outputs": [],
   "source": [
    "model_name = 'model_init' + '_' + str(curr_dt_time).replace(' ','').replace(':','_') + '/'\n",
    "    \n",
    "if not os.path.exists(model_name):\n",
    "    os.mkdir(model_name)\n",
    "        \n",
    "filepath = model_name + 'model-{epoch:05d}-{loss:.5f}-{categorical_accuracy:.5f}-{val_loss:.5f}-{val_categorical_accuracy:.5f}.h5'\n",
    "\n",
    "checkpoint = ModelCheckpoint(filepath, monitor='val_loss', verbose=1, save_best_only=False, save_weights_only=False, mode='auto', period=1)\n",
    "\n",
    "LR = ReduceLROnPlateau(monitor='val_loss', factor=0.2,\n",
    "                              patience=3, min_lr=0.001) # write the REducelronplateau code here\n",
    "callbacks_list = [checkpoint, LR]"
   ]
  },
  {
   "cell_type": "markdown",
   "metadata": {},
   "source": [
    "The `steps_per_epoch` and `validation_steps` are used by `fit_generator` to decide the number of next() calls it need to make."
   ]
  },
  {
   "cell_type": "code",
   "execution_count": 17,
   "metadata": {},
   "outputs": [],
   "source": [
    "if (num_train_sequences%batch_size) == 0:\n",
    "    steps_per_epoch = int(num_train_sequences/batch_size)\n",
    "else:\n",
    "    steps_per_epoch = (num_train_sequences//batch_size) + 1\n",
    "\n",
    "if (num_val_sequences%batch_size) == 0:\n",
    "    validation_steps = int(num_val_sequences/batch_size)\n",
    "else:\n",
    "    validation_steps = (num_val_sequences//batch_size) + 1"
   ]
  },
  {
   "cell_type": "markdown",
   "metadata": {},
   "source": [
    "Let us now fit the model. This will start training the model and with the help of the checkpoints, you'll be able to save the model at the end of each epoch."
   ]
  },
  {
   "cell_type": "code",
   "execution_count": 18,
   "metadata": {},
   "outputs": [
    {
     "name": "stdout",
     "output_type": "stream",
     "text": [
      "Epoch 1/10\n"
     ]
    },
    {
     "name": "stderr",
     "output_type": "stream",
     "text": [
      "/mnt/disks/user/anaconda3/lib/python3.6/site-packages/skimage/transform/_warps.py:105: UserWarning: The default mode, 'constant', will be changed to 'reflect' in skimage 0.15.\n",
      "  warn(\"The default mode, 'constant', will be changed to 'reflect' in \"\n"
     ]
    },
    {
     "name": "stdout",
     "output_type": "stream",
     "text": [
      "42/42 [==============================] - 175s 4s/step - loss: 2.4198 - categorical_accuracy: 0.2836 - val_loss: 2.2744 - val_categorical_accuracy: 0.3000\n",
      "\n",
      "Epoch 00001: saving model to model_init_2019-06-1710_55_04.658428/model-00001-2.44129-0.28356-2.27437-0.30000.h5\n",
      "Epoch 2/10\n",
      "42/42 [==============================] - 149s 4s/step - loss: 1.8414 - categorical_accuracy: 0.4730 - val_loss: 1.9345 - val_categorical_accuracy: 0.4400\n",
      "\n",
      "Epoch 00002: saving model to model_init_2019-06-1710_55_04.658428/model-00002-1.85718-0.47360-1.93450-0.44000.h5\n",
      "Epoch 3/10\n",
      "42/42 [==============================] - 149s 4s/step - loss: 1.5359 - categorical_accuracy: 0.5951 - val_loss: 2.0259 - val_categorical_accuracy: 0.4100\n",
      "\n",
      "Epoch 00003: saving model to model_init_2019-06-1710_55_04.658428/model-00003-1.54673-0.59729-2.02593-0.41000.h5\n",
      "Epoch 4/10\n",
      "42/42 [==============================] - 149s 4s/step - loss: 1.3173 - categorical_accuracy: 0.6851 - val_loss: 1.9139 - val_categorical_accuracy: 0.4300\n",
      "\n",
      "Epoch 00004: saving model to model_init_2019-06-1710_55_04.658428/model-00004-1.32619-0.69231-1.91386-0.43000.h5\n",
      "Epoch 5/10\n",
      "42/42 [==============================] - 149s 4s/step - loss: 1.2028 - categorical_accuracy: 0.7476 - val_loss: 1.8228 - val_categorical_accuracy: 0.4400\n",
      "\n",
      "Epoch 00005: saving model to model_init_2019-06-1710_55_04.658428/model-00005-1.20478-0.75566-1.82275-0.44000.h5\n",
      "Epoch 6/10\n",
      "42/42 [==============================] - 150s 4s/step - loss: 1.1301 - categorical_accuracy: 0.7432 - val_loss: 2.0196 - val_categorical_accuracy: 0.4300\n",
      "\n",
      "Epoch 00006: saving model to model_init_2019-06-1710_55_04.658428/model-00006-1.13642-0.75113-2.01956-0.43000.h5\n",
      "Epoch 7/10\n",
      "42/42 [==============================] - 149s 4s/step - loss: 1.1076 - categorical_accuracy: 0.7599 - val_loss: 1.8638 - val_categorical_accuracy: 0.4000\n",
      "\n",
      "Epoch 00007: saving model to model_init_2019-06-1710_55_04.658428/model-00007-1.11325-0.76621-1.86380-0.40000.h5\n",
      "Epoch 8/10\n",
      "42/42 [==============================] - 149s 4s/step - loss: 1.0991 - categorical_accuracy: 0.7625 - val_loss: 1.9282 - val_categorical_accuracy: 0.4900\n",
      "\n",
      "Epoch 00008: saving model to model_init_2019-06-1710_55_04.658428/model-00008-1.10506-0.77074-1.92815-0.49000.h5\n",
      "Epoch 9/10\n",
      "42/42 [==============================] - 150s 4s/step - loss: 1.0773 - categorical_accuracy: 0.7491 - val_loss: 1.9286 - val_categorical_accuracy: 0.4900\n",
      "\n",
      "Epoch 00009: saving model to model_init_2019-06-1710_55_04.658428/model-00009-1.08315-0.75716-1.92861-0.49000.h5\n",
      "Epoch 10/10\n",
      "42/42 [==============================] - 149s 4s/step - loss: 1.0759 - categorical_accuracy: 0.7718 - val_loss: 1.7855 - val_categorical_accuracy: 0.4800\n",
      "\n",
      "Epoch 00010: saving model to model_init_2019-06-1710_55_04.658428/model-00010-1.08176-0.77828-1.78552-0.48000.h5\n"
     ]
    },
    {
     "data": {
      "text/plain": [
       "<keras.callbacks.History at 0x7fe9d482ec18>"
      ]
     },
     "execution_count": 18,
     "metadata": {},
     "output_type": "execute_result"
    }
   ],
   "source": [
    "model.fit_generator(train_generator, steps_per_epoch=steps_per_epoch, epochs=num_epochs, verbose=1, \n",
    "                    callbacks=callbacks_list, validation_data=val_generator, \n",
    "                    validation_steps=validation_steps, class_weight=None, workers=1, initial_epoch=0)"
   ]
  },
  {
   "cell_type": "code",
   "execution_count": null,
   "metadata": {},
   "outputs": [],
   "source": []
  }
 ],
 "metadata": {
  "kernelspec": {
   "display_name": "Python 3",
   "language": "python",
   "name": "python3"
  },
  "language_info": {
   "codemirror_mode": {
    "name": "ipython",
    "version": 3
   },
   "file_extension": ".py",
   "mimetype": "text/x-python",
   "name": "python",
   "nbconvert_exporter": "python",
   "pygments_lexer": "ipython3",
   "version": "3.6.8"
  }
 },
 "nbformat": 4,
 "nbformat_minor": 2
}
